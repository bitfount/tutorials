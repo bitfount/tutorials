{
 "cells": [
  {
   "cell_type": "markdown",
   "id": "a0ea21b0",
   "metadata": {},
   "source": [
    "[![Open in Colab](https://colab.research.google.com/assets/colab-badge.svg)](https://colab.research.google.com/github/bitfount/tutorials/blob/main/Privacy-Preserving%20Techniques/private-set-intersection-2.ipynb)\n",
    "\n",
    "# Private Set Intersections - Part 2\n",
    "\n",
    "Private set intersection (PSI) is a privacy-preserving technique which falls under the umbrella of secure multi-party computation (SMPC) technologies. These technologies enable multiple parties to perform operations on disparate datasets without revealing the underlying data to any party using cryptographic techniques.\n",
    "\n",
    "PSI itself allows you to determine the _overlapping_ records in two disparate datasets without providing access to the underlying raw data of either dataset, hence why it is referred to as an _intersection_. When applied to the Bitfount context, a Data Scientist can perform a PSI across a local dataset and a specified Pod and return the matching records from the local dataset.\n",
    "\n",
    "### Prerequisites"
   ]
  },
  {
   "cell_type": "code",
   "execution_count": null,
   "id": "ace6d69e",
   "metadata": {},
   "outputs": [],
   "source": [
    "!pip install bitfount"
   ]
  },
  {
   "cell_type": "markdown",
   "id": "ad754f40",
   "metadata": {},
   "source": [
    "## Access Controls\n",
    "\n",
    "Bitfount does not currently enable a Data Custodian to restrict Data Scientists to performing just PSI operations against a given Pod, so the primary use case for running PSI tasks using Bitfount is to understand the overlap of multiple datasets to which the Data Scientist already has Super Modeller or General Modeller permissions.\n",
    "\n",
    "For the purposes of this tutorial, we will use the `psi-demo-dataset` created in the [Private Set Intersection - Part 1](/tutorials/Privacy-Preserving-Techniques/private-set-intersection) tutorials. Be sure to re-start these Pods if they have gone offline since you did those tutorials before proceeding.\n",
    "\n",
    "## Setting Up for PSI Tasks\n",
    "\n",
    "Import the relevant pieces from the `bitfount` library:"
   ]
  },
  {
   "cell_type": "code",
   "execution_count": null,
   "id": "b1a6df57",
   "metadata": {},
   "outputs": [],
   "source": [
    "import logging\n",
    "import os\n",
    "import time\n",
    "\n",
    "import nest_asyncio\n",
    "import pandas as pd\n",
    "\n",
    "from bitfount import ComputeIntersectionRSA, DataFrameSource, setup_loggers\n",
    "\n",
    "nest_asyncio.apply()  # Needed because Jupyter also has an asyncio loop"
   ]
  },
  {
   "cell_type": "markdown",
   "id": "31376ca5",
   "metadata": {},
   "source": [
    "Set up the loggers:"
   ]
  },
  {
   "cell_type": "code",
   "execution_count": null,
   "id": "bc52ae79",
   "metadata": {
    "tags": [
     "logger_setup"
    ]
   },
   "outputs": [],
   "source": [
    "loggers = setup_loggers([logging.getLogger(\"bitfount\")])"
   ]
  },
  {
   "cell_type": "markdown",
   "id": "c1804ea9",
   "metadata": {},
   "source": [
    "## Running PSI Tasks\n",
    "\n",
    "PSI Tasks leverage the `ComputeIntersectionRSA` algorithm to run, which can take several optional arguments as outlined in the [API documentation](https://docs.bitfount.com/api/bitfount). The required arguments are:\n",
    "\n",
    "- `datasource`: The format of data linked to the Pod(s).\n",
    "- `pod_identifiers`: The identifiers for the Pods you wish to compare.\n",
    "\n",
    "You will also need to define the columns you wish to compare across Pods as an input variable. In the example below, we use `data` to define this. Now that we understand the requirements, we can run an example PSI task as outlined below:"
   ]
  },
  {
   "cell_type": "code",
   "execution_count": null,
   "id": "96dc3fcd",
   "metadata": {},
   "outputs": [],
   "source": [
    "# Compare the overlap in the \"workclass\" and \"occupation\" columns.\n",
    "data = {\"col1\": [3, 4, 5, 6, 7]}\n",
    "\n",
    "algorithm = ComputeIntersectionRSA()\n",
    "\n",
    "intersection_indices = algorithm.execute(\n",
    "    datasource=DataFrameSource(pd.DataFrame(data)), pod_identifiers=[\"psi-demo-dataset\"]\n",
    ")\n",
    "print(intersection_indices)"
   ]
  },
  {
   "cell_type": "markdown",
   "id": "154bcf51",
   "metadata": {},
   "source": [
    "The above should print out the overlap between the values in the variable `data` and the remote dataset `psi-demo-dataset`.\n",
    "\n",
    ":::note\n",
    "Private Set Intersection requires a significant amount of computation. This computation is linear in the size of both\n",
    "the query itself and the database being queried. When running PSI we recommend starting with smaller numbers of entries to understand\n",
    "the way it scales before executing larger queries.\n",
    ":::\n",
    "\n",
    "You've successfully run a PSI task!\n",
    "\n",
    "Contact our support team at [support@bitfount.com](mailto:support@bitfount.com) if you have any questions."
   ]
  }
 ],
 "metadata": {
  "jupytext": {
   "hide_notebook_metadata": true,
   "root_level_metadata": {
    "hide_title": true,
    "sidebar_label": "Private Set Intersections (Part 2)",
    "sidebar_position": 3,
    "slug": "/privacy-preserving-techniques/private-set-intersection-2"
   },
   "root_level_metadata_as_raw_cell": false
  },
  "kernelspec": {
   "display_name": "Python 3 (ipykernel)",
   "language": "python",
   "name": "python3"
  }
 },
 "nbformat": 4,
 "nbformat_minor": 5
}
