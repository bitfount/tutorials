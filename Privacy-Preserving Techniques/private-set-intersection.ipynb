{
 "cells": [
  {
   "cell_type": "markdown",
   "id": "0548890e",
   "metadata": {},
   "source": [
    "[![Open in Colab](https://colab.research.google.com/assets/colab-badge.svg)](https://colab.research.google.com/github/bitfount/tutorials/blob/main/Privacy-Preserving%20Techniques/private-set-intersection.ipynb)\n",
    "\n",
    "# Private Set Intersections - Part 1\n",
    "\n",
    "Private set intersection (PSI) is a privacy-preserving technique which falls under the umbrella of secure multi-party computation (SMPC) technologies. These technologies enable multiple parties to perform operations on disparate datasets without revealing the underlying data to any party using cryptographic techniques.\n",
    "\n",
    "PSI itself allows you to determine the _overlapping_ records in two disparate datasets without providing access to the underlying raw data of either dataset, hence why it is referred to as an _intersection_. When applied to the Bitfount context, a Data Scientist can perform a PSI across a local dataset and a specified Pod and return the matching records from the local dataset.\n",
    "\n",
    "### Prerequisites"
   ]
  },
  {
   "cell_type": "code",
   "execution_count": null,
   "id": "4abdad88",
   "metadata": {},
   "outputs": [],
   "source": [
    "!pip install bitfount"
   ]
  },
  {
   "cell_type": "markdown",
   "id": "1607e213",
   "metadata": {},
   "source": [
    "## Access Controls\n",
    "\n",
    "Bitfount does not currently enable a Data Custodian to restrict Data Scientists to performing just PSI operations against a given Pod, so the primary use case for running PSI tasks using Bitfount is to understand the overlap of multiple datasets to which the Data Scientist already has Super Modeller or General Modeller permissions.\n",
    "\n",
    "## Setting Up for PSI Tasks\n",
    "\n",
    "In order to prep your environment for running a PSI task, you need a pod to be online for the data scientist to connect to. Let's set up a `psi-demo` Pod.\n",
    "\n",
    "Import the relevant pieces from the `bitfount` library:"
   ]
  },
  {
   "cell_type": "code",
   "execution_count": null,
   "id": "226a28e0",
   "metadata": {},
   "outputs": [],
   "source": [
    "import logging\n",
    "import os\n",
    "\n",
    "import nest_asyncio\n",
    "import pandas as pd\n",
    "\n",
    "from bitfount import DataFrameSource, DatasourceContainerConfig, Pod, setup_loggers\n",
    "from bitfount.runners.config_schemas import PodDataConfig, PodDetailsConfig\n",
    "\n",
    "nest_asyncio.apply()  # Needed because Jupyter also has an asyncio loop"
   ]
  },
  {
   "cell_type": "markdown",
   "id": "10e740da",
   "metadata": {},
   "source": [
    "Set up the loggers:"
   ]
  },
  {
   "cell_type": "code",
   "execution_count": null,
   "id": "96d6679b",
   "metadata": {
    "tags": [
     "logger_setup"
    ]
   },
   "outputs": [],
   "source": [
    "loggers = setup_loggers([logging.getLogger(\"bitfount\")])"
   ]
  },
  {
   "cell_type": "markdown",
   "id": "61a499fb",
   "metadata": {},
   "source": [
    "Now we configure and start the `psi-demo` Pod:"
   ]
  },
  {
   "cell_type": "code",
   "execution_count": null,
   "id": "f21c1e35",
   "metadata": {},
   "outputs": [],
   "source": [
    "example_data = pd.DataFrame({\"col1\": [1, 3, 5, 7, 9]})\n",
    "source = DataFrameSource(data=example_data)\n",
    "# Configure a pod using the census income data.\n",
    "pod = Pod(\n",
    "    name=\"psi-demo\",\n",
    "    datasources=[\n",
    "        DatasourceContainerConfig(\n",
    "            name=\"psi-demo-dataset\",\n",
    "            datasource=source,\n",
    "            datasource_details=PodDetailsConfig(\n",
    "                display_name=\"PSI Demo Pod\",\n",
    "                description=\"This pod contains odd numbers up to 10\",\n",
    "            ),\n",
    "        )\n",
    "    ],\n",
    ")\n",
    "pod.start()"
   ]
  },
  {
   "cell_type": "markdown",
   "id": "2ad44b3e",
   "metadata": {},
   "source": [
    "## Running PSI Tasks\n",
    "\n",
    "That's the setup done! Now we can run a PSI task against the Pods. To do this, open up the second part of this tutorial \"Private Set Intersection (Part 2)\".\n",
    "\n",
    "Contact our support team at [support@bitfount.com](mailto:support@bitfount.com) if you have any questions."
   ]
  }
 ],
 "metadata": {
  "jupytext": {
   "hide_notebook_metadata": true,
   "root_level_metadata": {
    "hide_title": true,
    "sidebar_label": "Private Set Intersections (Part 1)",
    "sidebar_position": 2,
    "slug": "/privacy-preserving-techniques/private-set-intersection"
   },
   "root_level_metadata_as_raw_cell": false
  },
  "kernelspec": {
   "display_name": "Python 3 (ipykernel)",
   "language": "python",
   "name": "python3"
  }
 },
 "nbformat": 4,
 "nbformat_minor": 5
}
