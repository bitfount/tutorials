{
 "cells": [
  {
   "cell_type": "markdown",
   "id": "138e2405",
   "metadata": {},
   "source": [
    "[![Binder](https://mybinder.org/badge_logo.svg)](https://mybinder.org/v2/gh/bitfount/tutorials/main?labpath=01_running_a_pod.ipynb)\n",
    "\n",
    "# Federated Learning - Part 1: Running a pod\n",
    "\n",
    "Welcome to the Bitfount federated learning tutorials! In this sequence of tutorials, you will learn how federated learning works on the Bitfount platform. This is the first notebook in the series.\n",
    "\n",
    "This first tutorial introduces the concept of Pods (Provider Of Data). This is the data structure used by Bitfount for federated learning.\n",
    "\n",
    "By the end of this Jupyter notebook, you should know how to run a pod.\n",
    "\n",
    "### 1.1 Setting up\n",
    "\n",
    "Create your Bitfount account at https://hub.bitfount.com.\n",
    "\n",
    "Let's import the relevant pieces..."
   ]
  },
  {
   "cell_type": "code",
   "execution_count": null,
   "id": "73f2b74a",
   "metadata": {},
   "outputs": [],
   "source": [
    "import logging\n",
    "\n",
    "import nest_asyncio\n",
    "\n",
    "from bitfount import CSVSource, Pod\n",
    "from bitfount.runners.config_schemas import (\n",
    "    DataSplitConfig,\n",
    "    PodConfig,\n",
    "    PodDataConfig,\n",
    "    PodDetailsConfig,\n",
    ")\n",
    "from bitfount.runners.utils import setup_loggers\n",
    "\n",
    "nest_asyncio.apply()  # Needed because Jupyter also has an asyncio loop"
   ]
  },
  {
   "cell_type": "markdown",
   "id": "1abb62c6",
   "metadata": {},
   "source": [
    "Let's set up the loggers."
   ]
  },
  {
   "cell_type": "code",
   "execution_count": null,
   "id": "194347b8",
   "metadata": {
    "tags": [
     "logger_setup"
    ]
   },
   "outputs": [],
   "source": [
    "loggers = setup_loggers([logging.getLogger(\"bitfount\")])"
   ]
  },
  {
   "cell_type": "markdown",
   "id": "a5799ecc",
   "metadata": {},
   "source": [
    "We now specify the config for the pod to run."
   ]
  },
  {
   "cell_type": "code",
   "execution_count": null,
   "id": "f10c4cca",
   "metadata": {},
   "outputs": [],
   "source": [
    "# Configure a pod using the census income data.\n",
    "pod = Pod(\n",
    "    name=\"census-income-demo\",\n",
    "    datasource=CSVSource(\n",
    "        \"https://bitfount-hosted-downloads.s3.eu-west-2.amazonaws.com/bitfount-tutorials/census_income.csv\"\n",
    "    ),\n",
    "    pod_details_config=PodDetailsConfig(\n",
    "        display_name=\"Census Income Demo Pod\",\n",
    "        description=\"This pod contains data from the census income demo set\",\n",
    "    ),\n",
    "    data_config=PodDataConfig(\n",
    "        ignore_cols=[\"fnlwgt\"],\n",
    "        force_stypes={\n",
    "            \"census-income-demo\": {\n",
    "                \"categorical\": [\n",
    "                    \"TARGET\",\n",
    "                    \"workclass\",\n",
    "                    \"marital-status\",\n",
    "                    \"occupation\",\n",
    "                    \"relationship\",\n",
    "                    \"race\",\n",
    "                    \"native-country\",\n",
    "                    \"gender\",\n",
    "                    \"education\",\n",
    "                ],\n",
    "            },\n",
    "        },\n",
    "        modifiers=None,\n",
    "        datasource_args={\"seed\": 100},\n",
    "        data_split=DataSplitConfig(data_splitter=\"percentage\", args={}),\n",
    "    ),\n",
    "    approved_pods=[\n",
    "        \"census-income-yaml-demo\"\n",
    "    ],  # this is an optional attribute, but we will use it later in Tutorial 5\n",
    ")"
   ]
  },
  {
   "cell_type": "markdown",
   "id": "b9a56447",
   "metadata": {},
   "source": [
    "That's the setup done. Let's run the pod. You'll notice that the notebook cell doesn't complete. That's because the pod is set to run until it is interrupted!"
   ]
  },
  {
   "cell_type": "code",
   "execution_count": null,
   "id": "f08dcb1d",
   "metadata": {},
   "outputs": [],
   "source": [
    "pod.start()"
   ]
  },
  {
   "cell_type": "markdown",
   "id": "39ca1224",
   "metadata": {},
   "source": [
    "You should now be able to see your pod as registered in your Pods page on Bitfount Hub (https://hub.bitfount.com/{username}/pods). To use the pod, open up Part 3 of this tutorial in a separate tab and we'll go ahead and train a model on the pod.\n",
    "\n",
    "If you are following the tutorials in Binder, make sure the sidebar is displayed by clicking the folder icon on the left of the screen. Here you will be able to navigate to the next tutorial."
   ]
  }
 ],
 "metadata": {
  "jupytext": {
   "formats": "md,ipynb",
   "hide_notebook_metadata": true
  },
  "kernelspec": {
   "display_name": "Python 3 (ipykernel)",
   "language": "python",
   "name": "python3"
  }
 },
 "nbformat": 4,
 "nbformat_minor": 5
}
