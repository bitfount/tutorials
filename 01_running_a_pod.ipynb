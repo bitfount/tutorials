{
 "cells": [
  {
   "cell_type": "markdown",
   "id": "138e2405",
   "metadata": {},
   "source": [
    "[![Binder](https://mybinder.org/badge_logo.svg)](https://mybinder.org/v2/gh/bitfount/tutorials/main?labpath=01_running_a_pod.ipynb)\n",
    "\n",
    "# Federated Learning - Part 1: Running a pod\n",
    "\n",
    "Welcome to the Bitfount federated learning tutorials! In this sequence of tutorials, you will learn how federated learning works on the Bitfount platform. This is the first notebook in the series.\n",
    "\n",
    "This first tutorial introduces the concept of Pods (Processor of Data). A Pod is the component of the Bitfount network which allows for models or queries to run on remote data. Pods are co-located with data, check that users are authorised to perform a given operation, and then execute any approved computation.\n",
    "\n",
    "By the end of this Jupyter notebook, you should know how to run a Pod by interacting with the Bitfount Python API.\n",
    "\n",
    "### 1.1 Setting up\n",
    "\n",
    "If you haven't already, create your Bitfount account at https://hub.bitfount.com. If you'd like to run these tutorials locally, activate your virtual environment, download the files into a directory on your virtual environment, and open a Jupyter notebook by running `jupyter notebook` in your preferred terminal client.\n",
    "\n",
    "To run a Pod, we must import the relevant pieces from our [API reference](https://docs.bitfount.com/api/bitfount/federated/pod) for constructing a Pod. While several of these are optional, it is best practice to import them all for flexibility."
   ]
  },
  {
   "cell_type": "code",
   "execution_count": null,
   "id": "73f2b74a",
   "metadata": {},
   "outputs": [],
   "source": [
    "import logging\n",
    "\n",
    "import nest_asyncio\n",
    "\n",
    "from bitfount import CSVSource, Pod\n",
    "from bitfount.runners.config_schemas import (\n",
    "    DataSplitConfig,\n",
    "    PodConfig,\n",
    "    PodDataConfig,\n",
    "    PodDetailsConfig,\n",
    ")\n",
    "from bitfount.runners.utils import setup_loggers\n",
    "\n",
    "nest_asyncio.apply()  # Needed because Jupyter also has an asyncio loop"
   ]
  },
  {
   "cell_type": "markdown",
   "id": "1abb62c6",
   "metadata": {},
   "source": [
    "Let's set up the loggers. The loggers are necessary to ensure you can receive real-time feedback on your task's progress or error messages if something goes wrong:"
   ]
  },
  {
   "cell_type": "code",
   "execution_count": null,
   "id": "194347b8",
   "metadata": {
    "tags": [
     "logger_setup"
    ]
   },
   "outputs": [],
   "source": [
    "loggers = setup_loggers([logging.getLogger(\"bitfount\")])"
   ]
  },
  {
   "cell_type": "markdown",
   "id": "a5799ecc",
   "metadata": {},
   "source": [
    "In order to set up a Pod, we must specify a config detailing the characteristics of the Pod. For example:"
   ]
  },
  {
   "cell_type": "code",
   "execution_count": null,
   "id": "f10c4cca",
   "metadata": {},
   "outputs": [],
   "source": [
    "# Configure a pod using the census income data.\n",
    "pod = Pod(\n",
    "    name=\"census-income-demo\",\n",
    "    datasource=CSVSource(\n",
    "        \"https://bitfount-hosted-downloads.s3.eu-west-2.amazonaws.com/bitfount-tutorials/census_income.csv\"\n",
    "    ),\n",
    "    pod_details_config=PodDetailsConfig(\n",
    "        display_name=\"Census Income Demo Pod\",\n",
    "        description=\"This pod contains data from the census income demo set\",\n",
    "    ),\n",
    "    data_config=PodDataConfig(\n",
    "        ignore_cols=[\"fnlwgt\"],\n",
    "        force_stypes={\n",
    "            \"census-income-demo\": {\n",
    "                \"categorical\": [\n",
    "                    \"TARGET\",\n",
    "                    \"workclass\",\n",
    "                    \"marital-status\",\n",
    "                    \"occupation\",\n",
    "                    \"relationship\",\n",
    "                    \"race\",\n",
    "                    \"native-country\",\n",
    "                    \"gender\",\n",
    "                    \"education\",\n",
    "                ],\n",
    "            },\n",
    "        },\n",
    "        modifiers=None,\n",
    "        datasource_args={\"seed\": 100},\n",
    "        data_split=DataSplitConfig(data_splitter=\"percentage\", args={}),\n",
    "    ),\n",
    "    approved_pods=[\n",
    "        \"census-income-yaml-demo\"\n",
    "    ],  # this is an optional attribute, but we will use it later in Tutorial 5\n",
    ")"
   ]
  },
  {
   "cell_type": "markdown",
   "id": "7223be31",
   "metadata": {},
   "source": [
    "Notice how we specified which dataset to connect using CSVSource and how to read the dataset by including the details in PodDataConfig. [PodDataConfig](https://docs.bitfount.com/api/bitfount/runners/config_schemas#poddataconfig) has several parameters, many of which are optional, so be sure to check what will work best for your dataset configuration. \n",
    "\n",
    "Notice also how `datasource_args` and `data_split` are optional parameters, which are typically used in the event the dataset will be used for machine learning use cases. These parameters can be used to specify the percentage of the dataset split into test, train, and dev subsets of the data."
   ]
  },
  {
   "cell_type": "markdown",
   "id": "b9a56447",
   "metadata": {},
   "source": [
    "That's the setup done. Let's run the Pod. You'll notice that the notebook cell doesn't complete. That's because the pod is set to run until it is interrupted! This is important, as the Pod will need to be running in order for it to be accessed. This means if you are planning to continue to the next tutorial set, keep the kernel running!"
   ]
  },
  {
   "cell_type": "code",
   "execution_count": null,
   "id": "f08dcb1d",
   "metadata": {},
   "outputs": [],
   "source": [
    "pod.start()"
   ]
  },
  {
   "cell_type": "markdown",
   "id": "39ca1224",
   "metadata": {},
   "source": [
    "You should now be able to see your Pod as registered in your Pods page on Bitfount Hub (https://hub.bitfount.com/{username}/pods). If you'd like to learn an alternative mechanism to running a Pod by pointing to a YAML file configuration, go to [tutorial 2](https://github.com/bitfount/tutorials/blob/main/02_running_a_pod_using_yaml.ipynb). If you'd like to skip to training a model or running a SQL query on a Pod, open up [Part 3](https://github.com/bitfount/tutorials/blob/main/03_querying_and_training_a_model.ipynb)."
   ]
  }
 ],
 "metadata": {
  "jupytext": {
   "formats": "md,ipynb",
   "hide_notebook_metadata": true
  },
  "kernelspec": {
   "display_name": "Python 3.10.4 64-bit",
   "language": "python",
   "name": "python3"
  },
  "language_info": {
   "name": "python",
   "version": "3.10.4"
  },
  "vscode": {
   "interpreter": {
    "hash": "aee8b7b246df8f9039afb4144a1f6fd8d2ca17a180786b69acc140d282b71a49"
   }
  }
 },
 "nbformat": 4,
 "nbformat_minor": 5
}
