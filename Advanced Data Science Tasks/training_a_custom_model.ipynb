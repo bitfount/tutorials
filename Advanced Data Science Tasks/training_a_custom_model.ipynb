{
 "cells": [
  {
   "cell_type": "markdown",
   "id": "a70ee27a",
   "metadata": {},
   "source": [
    "[![Open in Colab](https://colab.research.google.com/assets/colab-badge.svg)](https://colab.research.google.com/github/bitfount/tutorials/blob/main/Advanced%20Data%20Science%20Tasks/training_a_custom_model.ipynb)\n",
    "\n",
    "# Using Custom Models\n",
    "\n",
    "Welcome to the Bitfount federated learning tutorials! In this sequence of tutorials, you will learn how federated learning works on the Bitfount platform.\n",
    "\n",
    "In this tutorial you will learn how to train a model using a custom model by extending a base model in the Bitfount framework. We will use the Pod you set up in \"Running a Pod\" tutorial, so double check that it is online in the Bitfount Hub prior to executing this notebook. If it is offline, you can bring it back online by repeating the \"Running a Pod\" tutorial.\n",
    "\n",
    "### Prerequisites"
   ]
  },
  {
   "cell_type": "code",
   "execution_count": null,
   "id": "83399d76",
   "metadata": {},
   "outputs": [],
   "source": [
    "!pip install bitfount"
   ]
  },
  {
   "cell_type": "markdown",
   "id": "830172cc",
   "metadata": {},
   "source": [
    "### Training\n",
    "\n",
    "In this tutorial we will first show you how to test your custom model using local training on your machine and then we will move on to training on a Pod. Note, to run a custom model on a Pod, you must have Super Modeller permissions or General Modeller with permission to run specified models on the Pod. For the purposes of this tutorial, you already have the correct permissions because Pod owners have Super Modeller permissions to their own Pods by default."
   ]
  },
  {
   "cell_type": "code",
   "execution_count": null,
   "id": "d666b972",
   "metadata": {},
   "outputs": [],
   "source": [
    "import logging  # isort: split\n",
    "from pathlib import Path\n",
    "\n",
    "import nest_asyncio\n",
    "import torch\n",
    "from torch import nn as nn\n",
    "from torch.nn import functional as F\n",
    "from torchmetrics.functional import accuracy\n",
    "\n",
    "from bitfount import (\n",
    "    BitfountModelReference,\n",
    "    BitfountSchema,\n",
    "    CSVSource,\n",
    "    DataStructure,\n",
    "    ModelTrainingAndEvaluation,\n",
    "    PyTorchBitfountModel,\n",
    "    PyTorchClassifierMixIn,\n",
    "    ResultsOnly,\n",
    "    get_pod_schema,\n",
    "    setup_loggers,\n",
    ")\n",
    "\n",
    "nest_asyncio.apply()  # Needed because Jupyter also has an asyncio loop"
   ]
  },
  {
   "cell_type": "markdown",
   "id": "94e20758",
   "metadata": {},
   "source": [
    "Let's import the loggers, which allow you to monitor progress of your executed commands and raise errors in the event something goes wrong."
   ]
  },
  {
   "cell_type": "code",
   "execution_count": null,
   "id": "c33fd7cc",
   "metadata": {
    "tags": [
     "logger_setup"
    ]
   },
   "outputs": [],
   "source": [
    "loggers = setup_loggers([logging.getLogger(\"bitfount\")])"
   ]
  },
  {
   "cell_type": "markdown",
   "id": "19adef98",
   "metadata": {},
   "source": [
    "### Creating a custom model\n",
    "\n",
    "For this tutorial we will create a custom model, extending and overriding the built-in `BitfountModel` class (specifically, we will use the `PyTorchBitfountModel` class). Details on this can be found in the documentation in the `bitfount.backends.pytorch.models.bitfount_model` module. Note, Bitfount does not vet custom models, nor are custom models private. Custom models saved to the Hub are searchable by users who know the URL for the custom model.\n",
    "\n",
    "The `PyTorchBitfountModel` uses the [PyTorch Lightning](https://www.pytorchlightning.ai/) library to provide high-level implementation options for a model in the PyTorch framework. This enables you to only implement the methods you need to dictate how the model training should be performed.\n",
    "\n",
    "For our custom model we _need_ to implement the following methods:\n",
    "\n",
    "- `__init__()`: how to setup the model\n",
    "- `configure_optimizers()`: how optimizers should be configured in the model\n",
    "- `forward()`: how to perform a forward pass in the model, how the loss is calculated\n",
    "- `training_step()`: what one training step in the model looks like\n",
    "- `validation_step()`: what one validation step in the model looks like\n",
    "- `test_step()`: what one test step in the model looks like\n",
    "\n",
    "Now we implement the custom model, feel free to try out your own model here:"
   ]
  },
  {
   "cell_type": "code",
   "execution_count": null,
   "id": "883694b8",
   "metadata": {},
   "outputs": [],
   "source": [
    "# Update the class name for your Custom model\n",
    "class MyCustomModel(PyTorchClassifierMixIn, PyTorchBitfountModel):\n",
    "    # A custom model built using PyTorch Lightning.\n",
    "    def __init__(self, **kwargs):\n",
    "        super().__init__(**kwargs)\n",
    "        self.learning_rate = 0.001\n",
    "        # Initializes the model and sets hyperparameters.\n",
    "        # We need to call the parent __init__ first to ensure base model is set up.\n",
    "        # Then we can set our custom model parameters.\n",
    "\n",
    "    def create_model(self):\n",
    "        self.input_size = self.datastructure.input_size\n",
    "        return nn.Sequential(\n",
    "            nn.Linear(self.input_size, 500),\n",
    "            nn.ReLU(),\n",
    "            nn.Dropout(0.1),\n",
    "            nn.Linear(500, self.n_classes),\n",
    "        )\n",
    "\n",
    "    def forward(self, x):\n",
    "        # Defines the operations we want to use for prediction.\n",
    "        x, sup = x\n",
    "        x = self._model(x.float())\n",
    "        return x\n",
    "\n",
    "    def training_step(self, batch, batch_idx):\n",
    "        # Computes and returns the training loss for a batch of data.\n",
    "        x, y = batch\n",
    "        y_hat = self(x)\n",
    "        loss = F.cross_entropy(y_hat, y)\n",
    "        return loss\n",
    "\n",
    "    def validation_step(self, batch, batch_idx):\n",
    "        # Operates on a single batch of data from the validation set.\n",
    "        x, y = batch\n",
    "        preds = self(x)\n",
    "        loss = F.cross_entropy(preds, y)\n",
    "        preds = F.softmax(preds, dim=1)\n",
    "        acc = accuracy(preds, y)\n",
    "        # We can log out some useful stats so we can see progress\n",
    "        self.log(\"val_loss\", loss, prog_bar=True)\n",
    "        self.log(\"val_acc\", acc, prog_bar=True)\n",
    "        return {\n",
    "            \"val_loss\": loss,\n",
    "            \"val_acc\": acc,\n",
    "        }\n",
    "\n",
    "    def test_step(self, batch, batch_idx):\n",
    "        x, y = batch\n",
    "        preds = self(x)\n",
    "        preds = F.softmax(preds, dim=1)\n",
    "\n",
    "        # Output targets and prediction for later\n",
    "        return {\"predictions\": preds, \"targets\": y}\n",
    "\n",
    "    def configure_optimizers(self):\n",
    "        # Configure the optimizer we wish to use whilst training.\n",
    "        optimizer = torch.optim.AdamW(self.parameters(), lr=self.learning_rate)\n",
    "        return optimizer"
   ]
  },
  {
   "cell_type": "markdown",
   "id": "72177f1c",
   "metadata": {},
   "source": [
    "### Training locally with a custom model\n",
    "\n",
    "With the above model we can now change our config to use this custom model. The configuration is for the most part the same as before.\n",
    "\n",
    "First, let's import and test the model on a local dataset."
   ]
  },
  {
   "cell_type": "code",
   "execution_count": null,
   "id": "0f7fc4c1",
   "metadata": {},
   "outputs": [],
   "source": [
    "datasource = CSVSource(\n",
    "    path=\"https://bitfount-hosted-downloads.s3.eu-west-2.amazonaws.com/bitfount-tutorials/census_income.csv\",\n",
    "    ignore_cols=[\"fnlwgt\"],\n",
    ")\n",
    "schema = BitfountSchema(\n",
    "    datasource,\n",
    "    table_name=\"census-income-demo-dataset\",\n",
    "    force_stypes={\n",
    "        \"census-income-demo-dataset\": {\n",
    "            \"categorical\": [\n",
    "                \"TARGET\",\n",
    "                \"workclass\",\n",
    "                \"marital-status\",\n",
    "                \"occupation\",\n",
    "                \"relationship\",\n",
    "                \"race\",\n",
    "                \"native-country\",\n",
    "                \"gender\",\n",
    "                \"education\",\n",
    "            ],\n",
    "        },\n",
    "    },\n",
    ")\n",
    "datastructure = DataStructure(target=\"TARGET\", table=\"census-income-demo-dataset\")\n",
    "model = MyCustomModel(datastructure=datastructure, schema=schema, epochs=2)\n",
    "local_results = model.fit(data=datasource)"
   ]
  },
  {
   "cell_type": "markdown",
   "id": "50d0e869",
   "metadata": {},
   "source": [
    "### Training on a Pod with your own custom model\n",
    "\n",
    "If you have your model defined locally, you can train it on a remote Pod. The example below uses the same hosted Pod as in \"Running a Pod\", so make sure this is online before running. You can use any Pod to which you have access by providing the Pod identifier as an argument to the `.fit` method.\n",
    "\n",
    "**NOTE:** Your model will be uploaded to the Bitfount Hub during this process. You can view your uploaded models at: https://hub.bitfount.com/my-models"
   ]
  },
  {
   "cell_type": "code",
   "execution_count": null,
   "id": "d48311a1",
   "metadata": {},
   "outputs": [],
   "source": [
    "pod_identifier = \"census-income-demo-dataset\"\n",
    "schema = get_pod_schema(pod_identifier)\n",
    "results = model.fit(\n",
    "    pod_identifiers=[pod_identifier],\n",
    "    model_out=Path(\"training_a_custom_model.pt\"),\n",
    "    extra_imports=[\"from torchmetrics.functional import accuracy\"],\n",
    ")"
   ]
  },
  {
   "cell_type": "code",
   "execution_count": null,
   "id": "471ebaa5",
   "metadata": {},
   "outputs": [],
   "source": [
    "pretrained_model_file = Path(\"training_a_custom_model.pt\")\n",
    "model.serialize(pretrained_model_file)"
   ]
  },
  {
   "cell_type": "markdown",
   "id": "093ed986",
   "metadata": {},
   "source": [
    "If you want to train on a Pod with a custom model you have developed previously and is available on the Hub (https://hub.bitfount.com/my-models), you may reference it using `BitfountModelReference`. Within `BitfountModelReference` you can specify `username` and `model_ref`. In the previous case, the username is our own username, so we don't need to specify it. If you wanted to use a model uploaded by someone else you would need to specify their username and the name of their model.\n",
    "\n",
    "**NOTE:** To run a custom model on a Pod for which you are _not_ the owner, the Pod owner must have granted you the _Super Modeller_ role. To learn about our Pod policies see : https://docs.bitfount.com/guides/for-data-custodians/managing-pod-access/bitfount-pod-policies."
   ]
  },
  {
   "cell_type": "code",
   "execution_count": null,
   "id": "59de615d",
   "metadata": {},
   "outputs": [],
   "source": [
    "reference_model = BitfountModelReference(\n",
    "    # username=<INSERT USERNAME>, # NOTE: if the Custom Model was developed by another user you must provide their username\n",
    "    model_ref=\"MyCustomModel\",\n",
    "    datastructure=datastructure,\n",
    "    schema=schema,\n",
    "    #     model_version=1,  # NOTE: use a specific version of the model (default is latest uploaded),\n",
    "    hyperparameters={\"epochs\": 2},\n",
    ")\n",
    "protocol = ResultsOnly(algorithm=ModelTrainingAndEvaluation(model=reference_model))\n",
    "protocol_results = protocol.run(pod_identifiers=[pod_identifier])"
   ]
  },
  {
   "cell_type": "markdown",
   "id": "75df3276",
   "metadata": {},
   "source": [
    "`model_ref` is either the name of an existing custom model (one that has been uploaded to the Hub) or, if using a new custom model, the path to the model file. The code will handle the upload of the model to the Hub the first time it is used, after which you can refer to it by name.\n",
    "\n",
    "### Uploading private models\n",
    "\n",
    "Custom models are by default uploaded to be publicly accessible. That means that if you upload your model another user of the bitfount platform could reference your model using `BitfountModelReference` by specifying your username, the model name and version number. If you want to control the usage of the Custom Model you upload you must set the `private=True`:"
   ]
  },
  {
   "cell_type": "code",
   "execution_count": null,
   "id": "457367eb",
   "metadata": {},
   "outputs": [],
   "source": [
    "reference_model = BitfountModelReference(\n",
    "    model_ref=Path(\"MyCustomModel.py\"),\n",
    "    datastructure=datastructure,\n",
    "    schema=schema,\n",
    "    hyperparameters={\"epochs\": 2},\n",
    "    private=True,\n",
    ")\n",
    "protocol = ResultsOnly(algorithm=ModelTrainingAndEvaluation(model=reference_model))\n",
    "protocol.run(pod_identifiers=[pod_identifier])"
   ]
  },
  {
   "cell_type": "markdown",
   "id": "8773ed9c",
   "metadata": {},
   "source": [
    "### Uploading pretained model weights file\n",
    "\n",
    "Perhaps you would like to enable another user you are collaborating with to run inference tasks on their own data with a custom model you have trained. Bitfount supports this by allowing you to upload your custom model along with a pretrained file. You can only upload pretrained model files to models that you own. Once a pretrained file is associated with a model, the pretrained file will by default be applied to the model each time it is referenced. If a different pretrained file is provided via `.run` this pretrained file will take precedence."
   ]
  },
  {
   "cell_type": "code",
   "execution_count": null,
   "id": "82ef87b9",
   "metadata": {},
   "outputs": [],
   "source": [
    "uploaded_reference_model = BitfountModelReference(\n",
    "    model_ref=\"MyCustomModel\",\n",
    "    datastructure=datastructure,\n",
    "    schema=schema,\n",
    "    model_version=1,  # NOTE: model_version must be populated in order to upload pretrained model file\n",
    "    hyperparameters={\"epochs\": 2},\n",
    ")\n",
    "\n",
    "uploaded_reference_model.send_weights(pretrained_model_file)"
   ]
  },
  {
   "cell_type": "code",
   "execution_count": null,
   "id": "fcf98e07",
   "metadata": {},
   "outputs": [],
   "source": [
    "protocol = ResultsOnly(\n",
    "    algorithm=ModelTrainingAndEvaluation(model=uploaded_reference_model)\n",
    ")\n",
    "# NOTE: if you want to run the model with a pretrained file other than the one uploaded by the owner,\n",
    "#      the pretrained_file parameter must be populated.\n",
    "protocol.run(\n",
    "    pod_identifiers=[pod_identifier],\n",
    "    # pretrained_file = differentpretrained_model_file\n",
    ")"
   ]
  },
  {
   "cell_type": "markdown",
   "id": "d7fd80e1",
   "metadata": {},
   "source": [
    "You've now successfully learned how to run a custom model!\n",
    "\n",
    "Contact our support team at [support@bitfount.com](mailto:support@bitfount.com) if you have any questions."
   ]
  }
 ],
 "metadata": {
  "jupytext": {
   "hide_notebook_metadata": true,
   "root_level_metadata": {
    "hide_title": true,
    "sidebar_label": "Training a Custom Model",
    "sidebar_position": 1,
    "slug": "/advanced-data-science-tasks/training-a-custom-model"
   },
   "root_level_metadata_as_raw_cell": false
  },
  "kernelspec": {
   "display_name": "Python 3 (ipykernel)",
   "language": "python",
   "name": "python3"
  }
 },
 "nbformat": 4,
 "nbformat_minor": 5
}
