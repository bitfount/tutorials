{
 "cells": [
  {
   "cell_type": "markdown",
   "id": "6c280a84",
   "metadata": {},
   "source": [
    "[![Open in Colab](https://colab.research.google.com/assets/colab-badge.svg)](https://colab.research.google.com/github/bitfount/tutorials/blob/main/Connecting%20Data%20%26%20Creating%20Pods/running_a_pod.ipynb)\n",
    "\n",
    "# Running a Pod\n",
    "\n",
    "Welcome to the Bitfount federated learning tutorials! In this sequence of tutorials, you will learn how federated learning works on the Bitfount platform.\n",
    "This first tutorial introduces the concept of Pods (Processor of Data). A Pod is the component of the Bitfount network which allows for models or queries to run on remote data. Pods are co-located with data, check that users are authorised to perform a given operation, and then execute any approved computation.\n",
    "\n",
    "By the end of this Jupyter notebook, you should know how to run a Pod by interacting with the Bitfount Python API.\n",
    "\n",
    "### Prerequisites"
   ]
  },
  {
   "cell_type": "code",
   "execution_count": null,
   "id": "0a4dfda2",
   "metadata": {},
   "outputs": [],
   "source": [
    "!pip install bitfount"
   ]
  },
  {
   "cell_type": "markdown",
   "id": "caee7485",
   "metadata": {},
   "source": [
    "### Setting up\n",
    "\n",
    "If you haven't already, create your Bitfount account on the [Bitfount Hub](https://hub.bitfount.com).\n",
    "\n",
    "If you'd like to run these tutorials locally, clone this repository, activate your virtual environment, install our package: `pip install bitfount` and open a Jupyter notebook by running `jupyter notebook` in your preferred terminal client.\n",
    "\n",
    "To run a Pod, we must import the relevant pieces from our [API reference](https://docs.bitfount.com/api/bitfount/federated/pod) for constructing a Pod. While several of these are optional, it is best practice to import them all for flexibility."
   ]
  },
  {
   "cell_type": "code",
   "execution_count": null,
   "id": "a1ee7b1a",
   "metadata": {},
   "outputs": [],
   "source": [
    "import logging\n",
    "\n",
    "import nest_asyncio\n",
    "\n",
    "from bitfount import CSVSource, DatasourceContainerConfig, Pod, setup_loggers\n",
    "from bitfount.runners.config_schemas import PodDataConfig, PodDetailsConfig\n",
    "\n",
    "nest_asyncio.apply()  # Needed because Jupyter also has an asyncio loop"
   ]
  },
  {
   "cell_type": "markdown",
   "id": "4b2756ef",
   "metadata": {},
   "source": [
    "Let's set up the loggers. The loggers are necessary to ensure you can receive real-time feedback on your task's progress or error messages if something goes wrong:"
   ]
  },
  {
   "cell_type": "code",
   "execution_count": null,
   "id": "d8bdd379",
   "metadata": {
    "tags": [
     "logger_setup"
    ]
   },
   "outputs": [],
   "source": [
    "loggers = setup_loggers([logging.getLogger(\"bitfount\")])"
   ]
  },
  {
   "cell_type": "markdown",
   "id": "2d66e3ed",
   "metadata": {},
   "source": [
    "### Setting up the Pod\n",
    "\n",
    "In order to set up a Pod, we must specify a config detailing the characteristics of the Pod. For example:"
   ]
  },
  {
   "cell_type": "code",
   "execution_count": null,
   "id": "c79e6b3a",
   "metadata": {},
   "outputs": [],
   "source": [
    "# Configure a pod using the census income data.\n",
    "\n",
    "# First, let's set up the pod details configuration for the datasource.\n",
    "datasource_details = PodDetailsConfig(\n",
    "    display_name=\"Census Income Demo Pod\",\n",
    "    description=\"This pod contains data from the census income demo set\",\n",
    ")\n",
    "# Set up the datasource and data configration\n",
    "datasource = CSVSource(\n",
    "    \"https://bitfount-hosted-downloads.s3.eu-west-2.amazonaws.com/bitfount-tutorials/census_income.csv\"\n",
    ")\n",
    "data_config = PodDataConfig(\n",
    "    ignore_cols={\"census-income-demo-dataset\": [\"fnlwgt\"]},\n",
    "    force_stypes={\n",
    "        \"census-income-demo-dataset\": {\n",
    "            \"categorical\": [\n",
    "                \"TARGET\",\n",
    "                \"workclass\",\n",
    "                \"marital-status\",\n",
    "                \"occupation\",\n",
    "                \"relationship\",\n",
    "                \"race\",\n",
    "                \"native-country\",\n",
    "                \"gender\",\n",
    "                \"education\",\n",
    "            ],\n",
    "        },\n",
    "    },\n",
    "    modifiers=None,\n",
    "    datasource_args={\"seed\": 100},\n",
    ")\n",
    "\n",
    "pod = Pod(\n",
    "    name=\"census-income-demo\",\n",
    "    datasources=[\n",
    "        DatasourceContainerConfig(\n",
    "            name=\"census-income-demo-dataset\",\n",
    "            datasource=datasource,\n",
    "            datasource_details=datasource_details,\n",
    "            data_config=data_config,\n",
    "        )\n",
    "    ],\n",
    "    # approved_pods is an optional attribute, that we will use later in the\n",
    "    # \"Training a Model on Two Pods\" Tutorial\n",
    "    approved_pods=[\"census-income-yaml-demo-dataset\"],\n",
    ")"
   ]
  },
  {
   "cell_type": "markdown",
   "id": "1fa59fbb",
   "metadata": {},
   "source": [
    "Notice how we specified which dataset to connect using the DatasourceContainerConfig and how to read the dataset by including the details in `data_config`. [PodDataConfig](https://docs.bitfount.com/api/bitfount/runners/config_schemas#poddataconfig) has several parameters, many of which are optional, so be sure to check what will work best for your dataset configuration.\n",
    "\n",
    "### Running the Pod\n",
    "\n",
    "That's the setup done. Let's run the Pod. You'll notice that the notebook cell doesn't complete. That's because the Pod is set to run until it is interrupted! This is important, as the Pod will need to be running in order for it to be accessed. This means if you are planning to continue to the next tutorial set, keep the kernel running!"
   ]
  },
  {
   "cell_type": "code",
   "execution_count": null,
   "id": "74e4779b",
   "metadata": {},
   "outputs": [],
   "source": [
    "pod.start()"
   ]
  },
  {
   "cell_type": "markdown",
   "id": "f42194e7",
   "metadata": {},
   "source": [
    "You should now be able to see your Pod as registered in your Datasets page on [Bitfount Hub Datasets page](https://am.hub.bitfount.com/datasets). If you'd like to learn an alternative mechanism to running a Pod by pointing to a YAML file configuration, go to \"Running a Pod Using YAML\". If you'd like to skip to training a model or running a SQL query on a Pod, open up \"Querying and Training a Model\".\n",
    "\n",
    "Contact our support team at [support@bitfount.com](mailto:support@bitfount.com) if you have any questions."
   ]
  }
 ],
 "metadata": {
  "jupytext": {
   "hide_notebook_metadata": true,
   "root_level_metadata": {
    "hide_title": true,
    "sidebar_label": "Running a Pod",
    "sidebar_position": 1,
    "slug": "/connecting-data-and-creating-pods/running-a-pod"
   },
   "root_level_metadata_as_raw_cell": false
  },
  "kernelspec": {
   "display_name": "Python 3 (ipykernel)",
   "language": "python",
   "name": "python3"
  }
 },
 "nbformat": 4,
 "nbformat_minor": 5
}
