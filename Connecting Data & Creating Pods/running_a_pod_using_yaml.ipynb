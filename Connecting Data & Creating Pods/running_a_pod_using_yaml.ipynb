{
 "cells": [
  {
   "cell_type": "markdown",
   "id": "27d1c55a",
   "metadata": {},
   "source": [
    "[![Open in Colab](https://colab.research.google.com/assets/colab-badge.svg)](https://colab.research.google.com/github/bitfount/tutorials/blob/main/Connecting%20Data%20%26%20Creating%20Pods/running_a_pod_using_yaml.ipynb)\n",
    "\n",
    "# Running a Pod with a YAML configuration file.\n",
    "\n",
    "Now, you will learn how to set up a Pod using a YAML configuration file.\n",
    "\n",
    "ℹ️ In this tutorial, you will run a Pod from the Bitfount python API.\n",
    "\n",
    "Alternatively, this is can be called via the command line:\n",
    "\n",
    "> ```\n",
    "> bitfount run_pod <pod_config.yaml>\n",
    "> ```\n",
    "\n",
    "To keep everything in this notebook though, we are going to call the function directly from python.\n",
    "\n",
    "### Prerequisites"
   ]
  },
  {
   "cell_type": "code",
   "execution_count": null,
   "id": "27e0e9c7",
   "metadata": {},
   "outputs": [],
   "source": [
    "!pip install bitfount"
   ]
  },
  {
   "cell_type": "markdown",
   "id": "99a081d3",
   "metadata": {},
   "source": [
    "### Setting up\n",
    "\n",
    "Let's import the relevant pieces from our [API reference](https://docs.bitfount.com/api/bitfount/runners/config_schemas) for constructing a Pod. While several of these are optional, it is best practice to import them all for flexibility."
   ]
  },
  {
   "cell_type": "code",
   "execution_count": null,
   "id": "b4a3c8ce",
   "metadata": {},
   "outputs": [],
   "source": [
    "import logging\n",
    "\n",
    "import desert\n",
    "import nest_asyncio\n",
    "import yaml\n",
    "\n",
    "from bitfount import Pod, setup_loggers\n",
    "from bitfount.runners.config_schemas import PodConfig\n",
    "from bitfount.runners.pod_runner import setup_pod_from_config\n",
    "\n",
    "nest_asyncio.apply()  # Needed because Jupyter also has an asyncio loop"
   ]
  },
  {
   "cell_type": "markdown",
   "id": "5aad46f5",
   "metadata": {},
   "source": [
    "Let's set up the loggers. The loggers are necessary to ensure you can receive real-time feedback on your task's progress or error messages if something goes wrong:"
   ]
  },
  {
   "cell_type": "code",
   "execution_count": null,
   "id": "12489813",
   "metadata": {
    "tags": [
     "logger_setup"
    ]
   },
   "outputs": [],
   "source": [
    "loggers = setup_loggers([logging.getLogger(\"bitfount\")])"
   ]
  },
  {
   "cell_type": "markdown",
   "id": "446f5765",
   "metadata": {},
   "source": [
    "### Configuring the Pod\n",
    "\n",
    "In order to set up a Pod, we must specify a config detailing the characteristics of the Pod. For example:"
   ]
  },
  {
   "cell_type": "code",
   "execution_count": null,
   "id": "594bc4bd",
   "metadata": {},
   "outputs": [],
   "source": [
    "# Load the pod's config\n",
    "config_yaml = yaml.safe_load(\n",
    "    f\"\"\"\n",
    "name: census-income-yaml-demo\n",
    "datasources:\n",
    "  - datasource: CSVSource\n",
    "    name: \"census-income-yaml-demo-dataset\"\n",
    "    datasource_details_config:\n",
    "      display_name: \"Census Income YAML demo dataset\"\n",
    "      description: \"This pod contains data from the census income demo set.\"\n",
    "    data_config:\n",
    "      ignore_cols:\n",
    "        census-income-yaml-demo-dataset: [\"fnlwgt\"]\n",
    "      force_stypes:\n",
    "        census-income-yaml-demo-dataset:\n",
    "          categorical: [ \"TARGET\", \"workclass\", \"marital-status\", \"occupation\", \"relationship\", \"race\", \"native-country\", \"gender\", \"education\" ]\n",
    "      datasource_args:\n",
    "        path: https://bitfount-hosted-downloads.s3.eu-west-2.amazonaws.com/bitfount-tutorials/census_income.csv\n",
    "        seed: 100\n",
    "# approved_pods is an optional attribute, that we will use later in the \"Training a Model on Two Pods\" Tutorial\n",
    "approved_pods: [\"census-income-demo-dataset\"]\n",
    "version: \"2.0.0\"\n",
    "\"\"\"\n",
    ")\n",
    "config = desert.schema(PodConfig).load(config_yaml)"
   ]
  },
  {
   "cell_type": "markdown",
   "id": "04600c37",
   "metadata": {},
   "source": [
    "Notice how we specified which dataset to connect using CSVSource and how to read the dataset by including the details in data_config. [PodDataConfig](https://docs.bitfount.com/api/bitfount/runners/config_schemas#poddataconfig) has several parameters, many of which are optional, so be sure to check what will work best for your dataset configuration.\n",
    "\n",
    "### Running the Pod\n",
    "\n",
    "Now that we've completed the setup, let's run the Pod. You'll notice that the notebook cell doesn't complete. That's because the Pod is set to run until it is interrupted!"
   ]
  },
  {
   "cell_type": "code",
   "execution_count": null,
   "id": "fc462bdd",
   "metadata": {},
   "outputs": [],
   "source": [
    "pod = setup_pod_from_config(config)\n",
    "pod.start()"
   ]
  },
  {
   "cell_type": "markdown",
   "id": "0f4532f4",
   "metadata": {},
   "source": [
    "You should now be able to see your Pod as registered in your Datasets page on [Bitfount Hub](https://am.hub.bitfount.com/datasets). To use the Pod, open up \"Training a Model on two Pods\" in a separate tab, and we'll train a model using this Pod as well as the Pod we started in the previous tutorial.\n",
    "\n",
    "Contact our support team at [support@bitfount.com](mailto:support@bitfount.com) if you have any questions."
   ]
  }
 ],
 "metadata": {
  "jupytext": {
   "hide_notebook_metadata": true,
   "root_level_metadata": {
    "hide_title": true,
    "sidebar_label": "Running a Pod Using YAML",
    "sidebar_position": 2,
    "slug": "/connecting-data-and-creating-pods/running-a-pod-using-yaml"
   },
   "root_level_metadata_as_raw_cell": false
  },
  "kernelspec": {
   "display_name": "Python 3 (ipykernel)",
   "language": "python",
   "name": "python3"
  }
 },
 "nbformat": 4,
 "nbformat_minor": 5
}
