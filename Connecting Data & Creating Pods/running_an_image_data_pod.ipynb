{
 "cells": [
  {
   "cell_type": "markdown",
   "id": "fd9ca692",
   "metadata": {},
   "source": [
    "[![Open in Colab](https://colab.research.google.com/assets/colab-badge.svg)](https://colab.research.google.com/github/bitfount/tutorials/blob/main/Connecting%20Data%20%26%20Creating%20Pods/running_an_image_data_pod.ipynb)\n",
    "\n",
    "# Running an image data Pod\n",
    "\n",
    "By the end of this notebook, you will know how to run a Pod that uses image data.\n",
    "\n",
    "### Prerequisites"
   ]
  },
  {
   "cell_type": "code",
   "execution_count": null,
   "id": "df113a2e",
   "metadata": {},
   "outputs": [],
   "source": [
    "!pip install bitfount"
   ]
  },
  {
   "cell_type": "markdown",
   "id": "1350ef72",
   "metadata": {},
   "source": [
    "### Setting up\n",
    "\n",
    "Let's import the relevant pieces from our API reference for constructing a Pod. While several of these are optional, it is best practice to import them all for flexibility."
   ]
  },
  {
   "cell_type": "code",
   "execution_count": null,
   "id": "be9a2d94",
   "metadata": {},
   "outputs": [],
   "source": [
    "import logging\n",
    "import urllib.request\n",
    "\n",
    "import nest_asyncio\n",
    "\n",
    "from bitfount import CSVSource, DatasourceContainerConfig, Pod, setup_loggers\n",
    "from bitfount.runners.config_schemas import PodDataConfig, PodDetailsConfig\n",
    "\n",
    "nest_asyncio.apply()  # Needed because Jupyter also has an asyncio loop"
   ]
  },
  {
   "cell_type": "markdown",
   "id": "0904058d",
   "metadata": {},
   "source": [
    "Let's set up the loggers. The loggers are necessary to ensure you can receive real-time feedback on your task's progress or error messages if something goes wrong:"
   ]
  },
  {
   "cell_type": "code",
   "execution_count": null,
   "id": "55b9ae97",
   "metadata": {
    "tags": [
     "logger_setup"
    ]
   },
   "outputs": [],
   "source": [
    "loggers = setup_loggers([logging.getLogger(\"bitfount\")])"
   ]
  },
  {
   "cell_type": "markdown",
   "id": "fd3b8439",
   "metadata": {},
   "source": [
    "### Dowload MNIST data locally\n",
    "\n",
    "We now specify the config for the Pod to run. You'll need to download some data to run the image Pod. For this tutorial we will be using a subset of the MNIST dataset:"
   ]
  },
  {
   "cell_type": "code",
   "execution_count": null,
   "id": "a42d0aa2",
   "metadata": {},
   "outputs": [],
   "source": [
    "# Download the MNIST images and labels\n",
    "urllib.request.urlretrieve(\n",
    "    \"https://bitfount-hosted-downloads.s3.eu-west-2.amazonaws.com/bitfount-tutorials/mnist_images.zip\",\n",
    "    \"mnist_images.zip\",\n",
    ")\n",
    "urllib.request.urlretrieve(\n",
    "    \"https://bitfount-hosted-downloads.s3.eu-west-2.amazonaws.com/bitfount-tutorials/mnist_labels.csv\",\n",
    "    \"mnist_labels.csv\",\n",
    ")"
   ]
  },
  {
   "cell_type": "markdown",
   "id": "6ce96dbe",
   "metadata": {},
   "source": [
    "After downloading the data, we'll need to extract the images. This sets up a script which will work on Windows 7 and above, as well as on linux and MacOS systems:"
   ]
  },
  {
   "cell_type": "code",
   "execution_count": null,
   "id": "93053abe",
   "metadata": {},
   "outputs": [],
   "source": [
    "%%writefile extract.py\n",
    "import sys, os  # isort:skip\n",
    "\n",
    "os.system(\n",
    "    \"powershell Expand-Archive -Path mnist_images.zip -DestinationPath .\"\n",
    ") if \"win32\" in sys.platform else os.system(\"unzip -o mnist_images.zip\")"
   ]
  },
  {
   "cell_type": "markdown",
   "id": "b10d42e0",
   "metadata": {},
   "source": [
    "Now we run the script to extract the images."
   ]
  },
  {
   "cell_type": "code",
   "execution_count": null,
   "id": "7b8ea385",
   "metadata": {},
   "outputs": [],
   "source": [
    "%run extract.py"
   ]
  },
  {
   "cell_type": "markdown",
   "id": "5c9a4a6f",
   "metadata": {},
   "source": [
    "### Setting up the Pod\n",
    "\n",
    "Image datasets are slightly different from the tabular datasets we have been using up until this point. For image datasets, the DataSource file you point to when configuring the Pod will need to have references to the images on which you want to train. Suppose the column in your DataSource that holds these references is called `file`, we must inform the Pod that the contents of this column holds references to images. We achieve this by specifying the columns as `\"image\"` through the `force_stypes` parameter in the `PodDataConfig`."
   ]
  },
  {
   "cell_type": "code",
   "execution_count": null,
   "id": "1aa60f86",
   "metadata": {},
   "outputs": [],
   "source": [
    "image_data_config = PodDataConfig(\n",
    "    force_stypes={\"mnist-demo-dataset\": {\"categorical\": [\"target\"], \"image\": [\"file\"]}}\n",
    ")"
   ]
  },
  {
   "cell_type": "markdown",
   "id": "986bb29b",
   "metadata": {},
   "source": [
    "If you take a look at `mnist_label.csv`, the specified data source for this tutorial example, you will see the `file` column contains the image files names. If you followed the commands above you will have extracted the images to a directory `mnist_images/`. The column (in this case `file`) that holds the references to the image file locations must either be absolute or relative to the current directory. Here we can use the `modifiers` parameter to add the `mnist_images/` prefix to the `file` column to achieve the correct relative path.\n",
    "\n",
    "Otherwise the setup is very similar to the Pods we have run previously:"
   ]
  },
  {
   "cell_type": "code",
   "execution_count": null,
   "id": "1f2fd6ce",
   "metadata": {},
   "outputs": [],
   "source": [
    "datasource = CSVSource(\n",
    "    \"mnist_labels.csv\", modifiers={\"file\": {\"prefix\": \"mnist_images/\"}}\n",
    ")\n",
    "details_config = PodDetailsConfig(\n",
    "    display_name=\"MNIST demo pod\",\n",
    "    description=\"This pod contains a subset of the MNIST data.\",\n",
    ")\n",
    "pod = Pod(\n",
    "    name=\"mnist-demo\",\n",
    "    datasources=[\n",
    "        DatasourceContainerConfig(\n",
    "            name=\"mnist-demo-dataset\",\n",
    "            datasource=datasource,\n",
    "            data_config=image_data_config,\n",
    "            datasource_details=details_config,\n",
    "        )\n",
    "    ],\n",
    ")"
   ]
  },
  {
   "cell_type": "markdown",
   "id": "f0ca755c",
   "metadata": {},
   "source": [
    "### Running the Pod\n",
    "\n",
    "That's the setup done. Let's run the Pod. You'll notice that the notebook cell doesn't complete. That's because the Pod is set to run until it is interrupted!"
   ]
  },
  {
   "cell_type": "code",
   "execution_count": null,
   "id": "a00a09c9",
   "metadata": {},
   "outputs": [],
   "source": [
    "pod.start()"
   ]
  },
  {
   "cell_type": "markdown",
   "id": "06767d0b",
   "metadata": {},
   "source": [
    "You should now be able to see your Pod as registered in your Datasets page on [Bitfount Hub](https://am.hub.bitfount.com/datasets).\n",
    "Open the \"Training on Images\" tutorial where we will show you how to train a model on this image Pod.\n",
    "\n",
    "Contact our support team at [support@bitfount.com](mailto:support@bitfount.com) if you have any questions."
   ]
  }
 ],
 "metadata": {
  "jupytext": {
   "hide_notebook_metadata": true,
   "root_level_metadata": {
    "hide_title": true,
    "sidebar_label": "Running an Image data Pod",
    "sidebar_position": 3,
    "slug": "/connecting-data-and-creating-pods/running-an-image-data-pod"
   },
   "root_level_metadata_as_raw_cell": false
  },
  "kernelspec": {
   "display_name": "Python 3 (ipykernel)",
   "language": "python",
   "name": "python3"
  }
 },
 "nbformat": 4,
 "nbformat_minor": 5
}
