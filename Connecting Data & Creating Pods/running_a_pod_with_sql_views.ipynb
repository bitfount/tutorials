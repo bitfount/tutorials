{
 "cells": [
  {
   "cell_type": "markdown",
   "id": "1d4de627",
   "metadata": {},
   "source": [
    "[![Open in Colab](https://colab.research.google.com/assets/colab-badge.svg)](https://colab.research.google.com/github/bitfount/tutorials/blob/main/Connecting%20Data%20%26%20Creating%20Pods/running_a_pod_with_sql_views.ipynb)\n",
    "\n",
    "# Running a Pod with SQL Views\n",
    "\n",
    "This tutorial introduces the concept of Pods (Processor of Data) with views. This means using a datasource to create different view for specific tasks. All the views appear in the hub as separate pods, with their own set of permissions.\n",
    "\n",
    "### Prerequisites"
   ]
  },
  {
   "cell_type": "code",
   "execution_count": null,
   "id": "1c8a9ace",
   "metadata": {},
   "outputs": [],
   "source": [
    "!pip install bitfount"
   ]
  },
  {
   "cell_type": "markdown",
   "id": "f85e8df0",
   "metadata": {},
   "source": [
    "### Setting up\n",
    "\n",
    "If you haven't already, create your Bitfount account on the [Bitfount Hub](https://hub.bitfount.com).\n",
    "\n",
    "If you'd like to run these tutorials locally, clone this repository, activate your virtual environment, install our package: `pip install bitfount` and open a Jupyter notebook by running `jupyter notebook` in your preferred terminal client.\n",
    "\n",
    "To run a Pod, we must import the relevant pieces from our [API reference](https://docs.bitfount.com/api/bitfount/federated/pod) for constructing a Pod. While several of these are optional, it is best practice to import them all for flexibility."
   ]
  },
  {
   "cell_type": "code",
   "execution_count": null,
   "id": "6c1abdfa",
   "metadata": {},
   "outputs": [],
   "source": [
    "import logging\n",
    "\n",
    "import nest_asyncio\n",
    "\n",
    "from bitfount import (\n",
    "    CSVSource,\n",
    "    DatasourceContainerConfig,\n",
    "    Pod,\n",
    "    SQLViewConfig,\n",
    "    setup_loggers,\n",
    ")\n",
    "from bitfount.runners.config_schemas import PodDataConfig, PodDetailsConfig\n",
    "\n",
    "nest_asyncio.apply()  # Needed because Jupyter also has an asyncio loop"
   ]
  },
  {
   "cell_type": "markdown",
   "id": "c43fc277",
   "metadata": {},
   "source": [
    "Let's set up the loggers. The loggers are necessary to ensure you can receive real-time feedback on your task's progress or error messages if something goes wrong:"
   ]
  },
  {
   "cell_type": "code",
   "execution_count": null,
   "id": "913a19da",
   "metadata": {
    "tags": [
     "logger_setup"
    ]
   },
   "outputs": [],
   "source": [
    "loggers = setup_loggers([logging.getLogger(\"bitfount\")])"
   ]
  },
  {
   "cell_type": "markdown",
   "id": "820e60e1",
   "metadata": {},
   "source": [
    "### Setting up the Pod\n",
    "\n",
    "Similar to `Running a Pod` tutorial, we start by creating the underlying datasource, and then define the view using a `SQL` query. Note that `SQLViewConfig`s are only supported for pods for which the pod database is enabled, so make sure to set `pod_db` to `True` when setting up the pod."
   ]
  },
  {
   "cell_type": "code",
   "execution_count": null,
   "id": "9f2a072b",
   "metadata": {},
   "outputs": [],
   "source": [
    "# Configure a pod using the census income data.\n",
    "\n",
    "# Exactly as in the `Running a Pod` tutorial, we first set up the source datasource.\n",
    "datasource_details = PodDetailsConfig(\n",
    "    display_name=\"Census Income Demo Pod\",\n",
    "    description=\"This pod contains data from the census income demo set\",\n",
    ")\n",
    "datasource = CSVSource(\n",
    "    \"https://bitfount-hosted-downloads.s3.eu-west-2.amazonaws.com/bitfount-tutorials/census_income.csv\"\n",
    ")\n",
    "data_config = PodDataConfig(\n",
    "    ignore_cols={\"census-income-demo-dataset\": [\"fnlwgt\"]},\n",
    "    force_stypes={\n",
    "        \"census-income-demo-dataset\": {\n",
    "            \"categorical\": [\n",
    "                \"TARGET\",\n",
    "                \"workclass\",\n",
    "                \"marital-status\",\n",
    "                \"occupation\",\n",
    "                \"relationship\",\n",
    "                \"race\",\n",
    "                \"native-country\",\n",
    "                \"gender\",\n",
    "                \"education\",\n",
    "            ],\n",
    "        },\n",
    "    },\n",
    "    modifiers=None,\n",
    "    datasource_args={\"seed\": 100},\n",
    ")\n",
    "# Now, we set up the SQLViewConfig\n",
    "\n",
    "sql_ds = SQLViewConfig(\n",
    "    query=\"SELECT age, race, TARGET FROM 'census-income-demo-dataset' WHERE race='White'\",\n",
    "    pod_name=\"census-income-demo\",\n",
    "    source_dataset=\"census-income-demo-dataset\",\n",
    ")\n",
    "\n",
    "# Similar to the datasource, we also have to set up the details configurations. If a data configuration is not provided, it will inherit it from the source datasource.\n",
    "sql_view_details_config = PodDetailsConfig(\n",
    "    display_name=\"SQL View of the Census Income Demo Dataset\",\n",
    "    description=\"This pod contains a subset of the census income demo set\",\n",
    ")\n",
    "\n",
    "pod = Pod(\n",
    "    name=\"census-income-demo\",\n",
    "    datasources=[\n",
    "        DatasourceContainerConfig(\n",
    "            name=\"census-income-demo-dataset\",\n",
    "            datasource=datasource,\n",
    "            datasource_details=datasource_details,\n",
    "            data_config=data_config,\n",
    "        ),\n",
    "        DatasourceContainerConfig(\n",
    "            name=\"census-income-demo-sql-view\",\n",
    "            datasource=sql_ds,\n",
    "            datasource_details=sql_view_details_config,\n",
    "        ),\n",
    "    ],\n",
    "    pod_db=True,  # Make sure this is set to `True` to enable SQLQueryView\n",
    ")\n"
   ]
  },
  {
   "cell_type": "markdown",
   "id": "b547ffb7",
   "metadata": {},
   "source": [
    "Notice how we specified which dataset to connect using the DatasourceContainerConfig and how to read the dataset by including the details in `data_config`. [PodDataConfig](https://docs.bitfount.com/api/bitfount/runners/config_schemas#poddataconfig) has several parameters, many of which are optional, so be sure to check what will work best for your dataset configuration.\n",
    "If you go to the [Bitfount Hub](https://hub.bitfount.com), you'll notice that the two dataset appear as separate pods. In order to execute any task on them, you have to reference them by the `name`\n",
    "\n",
    "### Running the Pod\n",
    "\n",
    "That's the setup done. Let's run the Pod. You'll notice that the notebook cell doesn't complete. That's because the Pod is set to run until it is interrupted! This is important, as the Pod will need to be running in order for it to be accessed. This means if you are planning to continue to the next tutorial set, keep the kernel running!"
   ]
  },
  {
   "cell_type": "code",
   "execution_count": null,
   "id": "724438ce",
   "metadata": {},
   "outputs": [],
   "source": [
    "pod.start()"
   ]
  },
  {
   "cell_type": "markdown",
   "id": "c44f4d8a",
   "metadata": {},
   "source": [
    "You should now be able to see your Pod as registered in your Datasets page on [Bitfount Hub Datasets page](https://am.hub.bitfount.com/datasets). If you'd like to learn an alternative mechanism to running a Pod by pointing to a YAML file configuration, go to \"Running a Pod Using YAML\". If you'd like to skip to training a model or running a SQL query on a Pod, open up \"Querying and Training a Model\".\n",
    "\n",
    "Contact our support team at [support@bitfount.com](mailto:support@bitfount.com) if you have any questions."
   ]
  }
 ],
 "metadata": {
  "jupytext": {
   "hide_notebook_metadata": true,
   "root_level_metadata": {
    "hide_title": true,
    "sidebar_label": "Running a Pod with SQL Views",
    "sidebar_position": 1,
    "slug": "/connecting-data-and-creating-pods/running_a_pod_with_sql_views"
   },
   "root_level_metadata_as_raw_cell": false
  },
  "kernelspec": {
   "display_name": "Python 3 (ipykernel)",
   "language": "python",
   "name": "python3"
  }
 },
 "nbformat": 4,
 "nbformat_minor": 5
}
