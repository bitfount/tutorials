{
 "cells": [
  {
   "cell_type": "markdown",
   "id": "458a7515",
   "metadata": {},
   "source": [
    "[![Open in Colab](https://colab.research.google.com/assets/colab-badge.svg)](https://colab.research.google.com/github/bitfount/tutorials/blob/main/Running%20Basic%20Data%20Science%20Tasks/querying_a_sql_view_pod.ipynb)\n",
    "\n",
    "# Querying a SQL View Dataset\n",
    "\n",
    "In this tutorial we will first learn how to execute SQL queries on a dataset.\n",
    "You will use the Pod you set up in \"Running a Pod With SQL Views\", so make sure the Pod is showing as 'Online' in your Bitfount Hub 'My Pods' view. If it is 'Offline,' run the Pod again following the instructions in \"Running a Pod With SQL Views\".\n",
    "\n",
    "### Prerequisites"
   ]
  },
  {
   "cell_type": "code",
   "execution_count": null,
   "id": "97605d30",
   "metadata": {},
   "outputs": [],
   "source": [
    "!pip install bitfount"
   ]
  },
  {
   "cell_type": "markdown",
   "id": "47bcf855",
   "metadata": {},
   "source": [
    "### Obtaining access\n",
    "\n",
    "Typically, you will need to receive access to a Pod from the Data Custodian who owns the Pod to query or train on its associated data. The Data Custodian will need your Bitfount username to grant you access. Once access is granted, you will be able to view whether the Pod is online and what permissions you have to it in the \"Accessible Pods\" view in the Hub.\n",
    "\n",
    "For the purposes of this tutorial, you will be using the pod you set up in \"Running a Pod\", so you won't need to gain any access.\n",
    "\n",
    "Let's import the relevant pieces for the query or model we wish to train from our API reference. Note: These may differ if you wish to use a different protocol or algorithm, so keep that in mind if looking to execute a different type of task."
   ]
  },
  {
   "cell_type": "code",
   "execution_count": null,
   "id": "a5ea216e",
   "metadata": {},
   "outputs": [],
   "source": [
    "import logging\n",
    "from pathlib import Path\n",
    "\n",
    "import nest_asyncio\n",
    "\n",
    "from bitfount import (\n",
    "    DataStructure,\n",
    "    FederatedAveraging,\n",
    "    FederatedModelTraining,\n",
    "    Optimizer,\n",
    "    PyTorchTabularClassifier,\n",
    "    SqlQuery,\n",
    "    get_pod_schema,\n",
    "    setup_loggers,\n",
    ")\n",
    "\n",
    "nest_asyncio.apply()  # Needed because Jupyter also has an asyncio loop"
   ]
  },
  {
   "cell_type": "markdown",
   "id": "321219da",
   "metadata": {},
   "source": [
    "Let's set up the loggers. The loggers are necessary to ensure you can receive real-time feedback on your task's progress or error messages if something goes wrong:"
   ]
  },
  {
   "cell_type": "code",
   "execution_count": null,
   "id": "2d01189a",
   "metadata": {
    "tags": [
     "logger_setup"
    ]
   },
   "outputs": [],
   "source": [
    "loggers = setup_loggers([logging.getLogger(\"bitfount\")])"
   ]
  },
  {
   "cell_type": "markdown",
   "id": "2a02d4c8",
   "metadata": {},
   "source": [
    "### Querying the datasets\n",
    "\n",
    "We can run a SQL query on a Pod by specifying our query as a parameter to the `SQLQuery` algorithm. We then pass the dataset name as the `pod_identifier` on which we would like to execute the query. Before executing the query, double check that the required datasets are online in the Hub."
   ]
  },
  {
   "cell_type": "code",
   "execution_count": null,
   "id": "29ebb25c",
   "metadata": {},
   "outputs": [],
   "source": [
    "pod_identifier = \"census-income-demo-dataset\"\n",
    "query = SqlQuery(\n",
    "    query=\"\"\"\n",
    "\n",
    "SELECT *\n",
    "FROM `census-income-demo-dataset`\n",
    "\"\"\"\n",
    ")\n",
    "query_result = query.execute(pod_identifiers=[pod_identifier])\n",
    "print(query_result)"
   ]
  },
  {
   "cell_type": "markdown",
   "id": "3de4d53a",
   "metadata": {},
   "source": [
    "Now let's compare the results with the views. You can observe that for the SQLView dataset there are fewer rows and columns even if we make the same query on the dataset, as a result of the query to define the view."
   ]
  },
  {
   "cell_type": "code",
   "execution_count": null,
   "id": "a963c433",
   "metadata": {},
   "outputs": [],
   "source": [
    "pod_identifier = \"census-income-demo-sql-view\"\n",
    "query_on_view_dataset = SqlQuery(\n",
    "    query=\"\"\"\n",
    "\n",
    "SELECT *\n",
    "FROM `census-income-demo-sql-view`\n",
    "\"\"\"\n",
    ")\n",
    "view_query_result = query_on_view_dataset.execute(pod_identifiers=[pod_identifier])\n",
    "print(view_query_result)"
   ]
  },
  {
   "cell_type": "markdown",
   "id": "b4690fb3",
   "metadata": {},
   "source": [
    "Contact our support team at [support@bitfount.com](mailto:support@bitfount.com) if you have any questions."
   ]
  }
 ],
 "metadata": {
  "jupytext": {
   "hide_notebook_metadata": true,
   "root_level_metadata": {
    "hide_title": true,
    "sidebar_label": "Querying a SQL View Dataset",
    "sidebar_position": 1,
    "slug": "/running-basic-data-science-tasks/querying-a_sql_view_pod"
   },
   "root_level_metadata_as_raw_cell": false
  },
  "kernelspec": {
   "display_name": "Python 3 (ipykernel)",
   "language": "python",
   "name": "python3"
  }
 },
 "nbformat": 4,
 "nbformat_minor": 5
}
