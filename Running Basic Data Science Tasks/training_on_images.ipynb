{
 "cells": [
  {
   "cell_type": "markdown",
   "id": "0812df94",
   "metadata": {},
   "source": [
    "[![Open in Colab](https://colab.research.google.com/assets/colab-badge.svg)](https://colab.research.google.com/github/bitfount/tutorials/blob/main/Running%20Basic%20Data%20Science%20Tasks/training_on_images.ipynb)\n",
    "\n",
    "# Training on Images\n",
    "\n",
    "In this tutorial we will be training a model on image data on a Pod. If you haven't set up the `mnist-demo` Pod yet you should review \"Running an Image data Pod\", as this tutorial will build from there.\n",
    "\n",
    "By the end of this notebook, you should have trained a model on your very own Pod running an image dataset and have used a preexisting image classification model as the starting point.\n",
    "\n",
    "### Prerequisites"
   ]
  },
  {
   "cell_type": "code",
   "execution_count": null,
   "id": "1955d50d",
   "metadata": {},
   "outputs": [],
   "source": [
    "!pip install bitfount"
   ]
  },
  {
   "cell_type": "markdown",
   "id": "e41100b9",
   "metadata": {},
   "source": [
    "### Setting up\n",
    "\n",
    "Let's import the relevant pieces for the model we wish to train from our API reference. Note: These may differ if you wish to use a different protocol or algorithm, so keep that in mind if looking to execute a different type of task."
   ]
  },
  {
   "cell_type": "code",
   "execution_count": null,
   "id": "12f21046",
   "metadata": {},
   "outputs": [],
   "source": [
    "import logging\n",
    "from pathlib import Path\n",
    "\n",
    "import nest_asyncio\n",
    "\n",
    "from bitfount import (\n",
    "    DataStructure,\n",
    "    NeuralNetworkPredefinedModel,\n",
    "    Optimizer,\n",
    "    PyTorchImageClassifier,\n",
    "    get_pod_schema,\n",
    "    setup_loggers,\n",
    ")\n",
    "\n",
    "nest_asyncio.apply()  # Needed because Jupyter also has an asyncio loop"
   ]
  },
  {
   "cell_type": "markdown",
   "id": "59da6fd6",
   "metadata": {},
   "source": [
    "Let's set up the loggers. The loggers are necessary to ensure you can receive real-time feedback on your task's progress or error messages if something goes wrong:"
   ]
  },
  {
   "cell_type": "code",
   "execution_count": null,
   "id": "7dab51b2",
   "metadata": {
    "tags": [
     "logger_setup"
    ]
   },
   "outputs": [],
   "source": [
    "loggers = setup_loggers([logging.getLogger(\"bitfount\")])"
   ]
  },
  {
   "cell_type": "markdown",
   "id": "0f276609",
   "metadata": {},
   "source": [
    "### Training a model\n",
    "\n",
    "The config for the Pod is very similar to to \"Querying and Training a Model\", but we will now be using a predefined model focused on image classification tasks: `resnet18`. This will act as our base and we will then train on the MNIST dataset we retrieved in \"Running an Image data Pod\" to hone the `resnet18` model for our task."
   ]
  },
  {
   "cell_type": "code",
   "execution_count": null,
   "id": "6b457efe",
   "metadata": {},
   "outputs": [],
   "source": [
    "pod_identifier = \"mnist-demo-dataset\"\n",
    "schema = get_pod_schema(pod_identifier)\n",
    "\n",
    "model = PyTorchImageClassifier(\n",
    "    datastructure=DataStructure(\n",
    "        target=\"target\", table=\"mnist-demo-dataset\", image_cols=[\"file\"]\n",
    "    ),\n",
    "    schema=schema,\n",
    "    model_structure=NeuralNetworkPredefinedModel(\"resnet18\"),\n",
    "    epochs=1,\n",
    "    batch_size=32,\n",
    "    optimizer=Optimizer(name=\"SGD\", params={\"lr\": 0.0001}),\n",
    ")"
   ]
  },
  {
   "cell_type": "markdown",
   "id": "5dadc20d",
   "metadata": {},
   "source": [
    "That's all the setup, which allowed us to specify what task we will run against the image Pod. Now, let's run the training!\n",
    "\n",
    "> ℹ️ Don't worry if this seems to take a while; we're sending a fairly large set of weight updates to the Pod, which may take some time to run.\n",
    "\n",
    "You can view the local progress of the training by watching the logs in your \"Running an Image Data Pod\" tutorial tab."
   ]
  },
  {
   "cell_type": "code",
   "execution_count": null,
   "id": "67a3d6ce",
   "metadata": {},
   "outputs": [],
   "source": [
    "results = model.fit(pod_identifiers=[pod_identifier])"
   ]
  },
  {
   "cell_type": "markdown",
   "id": "6606d2f7",
   "metadata": {},
   "source": [
    "Let's also serialize and save the model."
   ]
  },
  {
   "cell_type": "code",
   "execution_count": null,
   "id": "0e9e0bff",
   "metadata": {},
   "outputs": [],
   "source": [
    "model_out = Path(\"training_on_images.pt\")\n",
    "model.serialize(model_out)"
   ]
  },
  {
   "cell_type": "markdown",
   "id": "f9df71c9",
   "metadata": {},
   "source": [
    "You've now successfully trained a model on an image Pod!\n",
    "\n",
    "Contact our support team at [support@bitfount.com](mailto:support@bitfount.com) if you have any questions."
   ]
  }
 ],
 "metadata": {
  "jupytext": {
   "hide_notebook_metadata": true,
   "root_level_metadata": {
    "hide_title": true,
    "sidebar_label": "Training on Images",
    "sidebar_position": 3,
    "slug": "/running-basic-data-science-tasks/training-on-images"
   },
   "root_level_metadata_as_raw_cell": false
  },
  "kernelspec": {
   "display_name": "Python 3 (ipykernel)",
   "language": "python",
   "name": "python3"
  }
 },
 "nbformat": 4,
 "nbformat_minor": 5
}
