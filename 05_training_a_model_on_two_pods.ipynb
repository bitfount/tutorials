{
 "cells": [
  {
   "cell_type": "markdown",
   "id": "ae033deb",
   "metadata": {},
   "source": [
    "[![Binder](https://mybinder.org/badge_logo.svg)](https://mybinder.org/v2/gh/bitfount/tutorials/main?labpath=05_training_a_model_on_two_pods.ipynb)\n",
    "\n",
    "# Federated Learning - Part 5: Training a model on two pods\n",
    "\n",
    "In this sequence of tutorials, you will learn how federated learning works on the Bitfount platform. This is the fifth notebook in the series.\n",
    "In this tutorial you will learn how to train a model on two pods. We will use the pods you set up in Part 1 and Part 2, so make sure you run those first.\n",
    "If you haven't yet trained a model, you should review Part 3 and 4, as this tutorial will build from there.\n",
    "\n",
    "### 1.1 The pods\n",
    "\n",
    "This tutorial uses the same Census income pods as Part 1 and Part 2, which you should already have access to.\n",
    "\n",
    "### 1.2 Running a simple model\n",
    "\n",
    "Let's import the relevant pieces..."
   ]
  },
  {
   "cell_type": "code",
   "execution_count": null,
   "id": "858078a4",
   "metadata": {},
   "outputs": [],
   "source": [
    "import logging\n",
    "from pathlib import Path\n",
    "\n",
    "import nest_asyncio\n",
    "\n",
    "from bitfount import (\n",
    "    BitfountSchema,\n",
    "    DataStructure,\n",
    "    Optimizer,\n",
    "    PyTorchTabularClassifier,\n",
    "    SecureAggregator,\n",
    "    combine_pod_schemas,\n",
    "    get_pod_schema,\n",
    ")\n",
    "from bitfount.runners.utils import setup_loggers\n",
    "\n",
    "nest_asyncio.apply()  # Needed because Jupyter also has an asyncio loop"
   ]
  },
  {
   "cell_type": "markdown",
   "id": "3982a9b1",
   "metadata": {},
   "source": [
    "Let's set up the loggers."
   ]
  },
  {
   "cell_type": "code",
   "execution_count": null,
   "id": "dc35caa0",
   "metadata": {
    "tags": [
     "logger_setup"
    ]
   },
   "outputs": [],
   "source": [
    "loggers = setup_loggers([logging.getLogger(\"bitfount\")])"
   ]
  },
  {
   "cell_type": "markdown",
   "id": "4cd4622a",
   "metadata": {},
   "source": [
    "The config is very similar to Part 3 and 4, but now you will be training on two different datasets.\n",
    "This means you need to list both pods:"
   ]
  },
  {
   "cell_type": "code",
   "execution_count": null,
   "id": "c1fff7a4",
   "metadata": {},
   "outputs": [],
   "source": [
    "first_pod_identifier = \"census-income-demo\"\n",
    "second_pod_identifier = \"census-income-yaml-demo\"\n",
    "datastructure = DataStructure(\n",
    "    target=\"TARGET\",\n",
    "    table={\n",
    "        \"census-income-demo\": \"census-income-demo\",\n",
    "        \"census-income-yaml-demo\": \"census-income-yaml-demo\",\n",
    "    },\n",
    ")\n",
    "schema = combine_pod_schemas([first_pod_identifier, second_pod_identifier])\n",
    "\n",
    "model = PyTorchTabularClassifier(\n",
    "    datastructure=datastructure,\n",
    "    schema=schema,\n",
    "    epochs=2,\n",
    "    batch_size=64,\n",
    "    optimizer=Optimizer(name=\"SGD\", params={\"lr\": 0.001}),\n",
    ")"
   ]
  },
  {
   "cell_type": "markdown",
   "id": "5dccda6b",
   "metadata": {},
   "source": [
    "In this tutorial, we will also use [secure aggregation](https://eprint.iacr.org/2017/281.pdf) for\n",
    "aggregating the model parameters from the pods.\n",
    "In order to use the secure aggregation, we specify an additional parameter `aggregator = SecureAggregator()`\n",
    "in the model `fit` method.\n",
    "The `SecureAggregator` is essentially a secure multi-party computation algorithm based on additive secret sharing.\n",
    "The secret sharing algorithm works as follows:\n",
    "\n",
    "1. First every worker shares a securely generated random number (between 0 and a\n",
    "   `prime_q`, which is set by default to 2<sup>61</sup>-1) with every other worker\n",
    "   such that every worker ends up with one number from every other worker.\n",
    "   These numbers are known as shares as they will form part of the secret (the weight\n",
    "   update) which will be shared.\n",
    "2. The tensors in the weight update are then converted to positive integer field\n",
    "   elements of a finite field bounded by `prime_q`.\n",
    "3. The random numbers generated are used to compute a final share for every\n",
    "   tensor in the weight update. This final share has the same shape as the secret\n",
    "   tensor.\n",
    "4. This final share is then reconstructed using the shares retrieved from the\n",
    "   other workers. At this point, the final share from each worker is meaningless\n",
    "   until averaged with every other weight update.\n",
    "5. This final share is sent to the modeller where it will be averaged with the\n",
    "   updates from all the other workers (all the while in the finite field space).\n",
    "6. After averaging, the updates are finally decoded back to floating point\n",
    "   tensors.\n",
    "\n",
    "Note that `SecureAggregation` can be done only on pods that have been approved to work with one another.\n",
    "If you look back at Tutorial 1, we specified `adult-yaml-demo` as part of the `approved_pods` when\n",
    "defining the `adult-demo` pod, and in Tutorial 2 we specified `adult-demo` as one of the `other_pods`\n",
    "that the `adult-yaml-demo` pod can work with for secure aggreation.\n",
    "\n",
    "That's all the setup and explanations, let's run the training!"
   ]
  },
  {
   "cell_type": "code",
   "execution_count": null,
   "id": "60bc17d2",
   "metadata": {},
   "outputs": [],
   "source": [
    "model.fit(\n",
    "    pod_identifiers=[first_pod_identifier, second_pod_identifier],\n",
    "    aggregator=SecureAggregator(),\n",
    ")"
   ]
  },
  {
   "cell_type": "markdown",
   "id": "a0bdce0c",
   "metadata": {},
   "source": [
    "Let's also serialize and save the model."
   ]
  },
  {
   "cell_type": "code",
   "execution_count": null,
   "id": "0d066c5b",
   "metadata": {},
   "outputs": [],
   "source": [
    "model_out = Path(\"part_5_model.pt\")\n",
    "model.serialize(model_out)"
   ]
  },
  {
   "cell_type": "markdown",
   "id": "586c8ea2",
   "metadata": {},
   "source": [
    "If you are following the tutorials in Binder, make sure the sidebar is displayed by clicking the folder icon on the left of the screen. Here you will be able to navigate to the next tutorial."
   ]
  }
 ],
 "metadata": {
  "jupytext": {
   "formats": "md,ipynb",
   "hide_notebook_metadata": true
  },
  "kernelspec": {
   "display_name": "Python 3 (ipykernel)",
   "language": "python",
   "name": "python3"
  }
 },
 "nbformat": 4,
 "nbformat_minor": 5
}
