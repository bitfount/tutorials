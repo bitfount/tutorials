{
 "cells": [
  {
   "cell_type": "markdown",
   "id": "87dd9fd7",
   "metadata": {},
   "source": [
    "[![Binder](https://mybinder.org/badge_logo.svg)](https://mybinder.org/v2/gh/bitfount/tutorials/main?labpath=04_training_a_model_using_yaml.ipynb)\n",
    "\n",
    "# Federated Learning - Part 4: Training a model using a YAML configuration file\n",
    "\n",
    "Now that you know how to train a model using our API, we will also show\n",
    "how to do the same using a YAML configuration file.\n",
    "You will use the pod you set up in Part 2, so make sure you run that first.\n",
    "\n",
    "Normally, if you are training on a pod you do not own, you will have to request access.\n",
    "To do this, you would go to https://hub.bitfount.com/{username}/pods/{pod-identifier}.\n",
    "For the purpose of this tutorial, you will be using the pod from Part 2, so you don't need to request any access.\n",
    "\n",
    "Let's import the relevant pieces..."
   ]
  },
  {
   "cell_type": "code",
   "execution_count": null,
   "id": "4c0ccceb",
   "metadata": {},
   "outputs": [],
   "source": [
    "import logging\n",
    "from pathlib import Path\n",
    "\n",
    "import desert\n",
    "import nest_asyncio\n",
    "import yaml\n",
    "\n",
    "from bitfount.runners.config_schemas import ModellerConfig\n",
    "from bitfount.runners.modeller_runner import setup_modeller_from_config\n",
    "from bitfount.runners.utils import setup_loggers\n",
    "\n",
    "nest_asyncio.apply()  # Needed because Jupyter also has an asyncio loop"
   ]
  },
  {
   "cell_type": "markdown",
   "id": "bb9af5a7",
   "metadata": {},
   "source": [
    "Let's set up the loggers."
   ]
  },
  {
   "cell_type": "code",
   "execution_count": null,
   "id": "0f751278",
   "metadata": {
    "tags": [
     "logger_setup"
    ]
   },
   "outputs": [],
   "source": [
    "loggers = setup_loggers([logging.getLogger(\"bitfount\")])"
   ]
  },
  {
   "cell_type": "markdown",
   "id": "f034a330",
   "metadata": {},
   "source": [
    "Now we are going to specify the config for this training run. There are a few key things to specify.\n",
    "\n",
    "- `pods:identifiers`: The list of pods that hold the data you want to train on\n",
    "- `task:protocol`: The federated learning protocol to use. Note that you must have approval from the pod!\n",
    "- `task:algorithm`: The federated learning algorithm to use.\n",
    "- `task:aggregator`: This may be required depending on your chosen protocol\n",
    "- `task:model:name`: The model you want to train\n",
    "- `task:model:hyperparameters`: The settings used by the model\n",
    "\n",
    "There are currently a few extras to specify, which will be going away as we evolve our authentication model and APIs:\n",
    "\n",
    "- `data:target`: Which column to use as the dependent variable"
   ]
  },
  {
   "cell_type": "code",
   "execution_count": null,
   "id": "723ee222",
   "metadata": {},
   "outputs": [],
   "source": [
    "pod_identifier = \"census-income-yaml-demo\"\n",
    "\n",
    "# Load the modeller's config\n",
    "config_yaml = yaml.safe_load(\n",
    "    f\"\"\"\n",
    "pods:\n",
    "  identifiers:\n",
    "    - {pod_identifier}\n",
    "\n",
    "data_structure:\n",
    "  table_config:\n",
    "    table: census-income-yaml-demo\n",
    "  assign:\n",
    "    target: TARGET\n",
    "\n",
    "task:\n",
    "  protocol:\n",
    "    name: FederatedAveraging\n",
    "    arguments:\n",
    "      epochs_between_parameter_updates: 1\n",
    "  algorithm:\n",
    "    name: FederatedModelTraining\n",
    "  aggregator:\n",
    "    secure: False\n",
    "  model:\n",
    "    name: PyTorchTabularClassifier\n",
    "    hyperparameters:\n",
    "      epochs: 2\n",
    "      batch_size: 64\n",
    "      optimizer:\n",
    "        name: SGD\n",
    "        params:\n",
    "          lr: 0.001\n",
    "\"\"\"\n",
    ")\n",
    "config = desert.schema(ModellerConfig).load(config_yaml)"
   ]
  },
  {
   "cell_type": "markdown",
   "id": "93f21b1a",
   "metadata": {},
   "source": [
    "That's all the setup, let's run the training!"
   ]
  },
  {
   "cell_type": "code",
   "execution_count": null,
   "id": "500f0da5",
   "metadata": {},
   "outputs": [],
   "source": [
    "modeller, pod_identifiers = setup_modeller_from_config(config)\n",
    "modeller.run(pod_identifiers, model_out=Path(\"part_4_model.pt\"))"
   ]
  },
  {
   "cell_type": "markdown",
   "id": "160363c5",
   "metadata": {},
   "source": [
    "If you are following the tutorials in Binder, make sure the sidebar is displayed by clicking the folder icon on the left of the screen. Here you will be able to navigate to the next tutorial."
   ]
  }
 ],
 "metadata": {
  "jupytext": {
   "formats": "md,ipynb",
   "hide_notebook_metadata": true
  },
  "kernelspec": {
   "display_name": "Python 3 (ipykernel)",
   "language": "python",
   "name": "python3"
  }
 },
 "nbformat": 4,
 "nbformat_minor": 5
}
