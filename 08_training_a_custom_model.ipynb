{
 "cells": [
  {
   "cell_type": "markdown",
   "id": "bb312ad0",
   "metadata": {},
   "source": [
    "[![Binder](https://mybinder.org/badge_logo.svg)](https://mybinder.org/v2/gh/bitfount/tutorials/main?labpath=08_training_a_custom_model.ipynb)\n",
    "\n",
    "# Federated Learning - Part 8: Using custom models\n",
    "\n",
    "Welcome to the Bitfount federated learning tutorials! In this sequence of tutorials, you will learn how federated learning works on the Bitfount platform. This is the eighth notebook in the series.\n",
    "\n",
    "In this tutorial you will learn how to train a model using a custom model by extending a base model in the Bitfount framework. We will use the Pod you set up in Part 1, so double check that it is online in the Bitfount Hub prior to executing this notebook. If it is offline, you can bring it back online by repeating tutorial 1.\n",
    "\n",
    "### 8.1 Training\n",
    "\n",
    "In this tutorial we will first show you how to test your custom model using local training on your machine and then we will move on to training on a Pod. Note, to run a custom model on a Pod, you must have Super Modeller permissions on the Pod. For the purposes of this tutorial, you already have the correct permissions because Pod owners have Super Modeller permissions to their own Pods by default.\n",
    "\n",
    "### 8.2 The Pod\n",
    "\n",
    "This tutorial uses the same census-income-demo Pod as the Pod generated in Part 1.\n",
    "\n",
    "### 8.3 Creating a custom model\n",
    "\n",
    "For this tutorial we will create a custom model, extending and overriding the built-in `BitfountModel` class (specifically, we will use the `PyTorchBitfountModel` class). Details on this can be found in the documentation in the `bitfount.backends.pytorch.models.bitfount_model` module. Note, Bitfount does not vet custom models, nor are custom models private. Custom models saved to the Hub are searchable by users who know the URL for the custom model.\n",
    "\n",
    "The `PyTorchBitfountModel` uses the [PyTorch Lightning](https://www.pytorchlightning.ai/) library to provide high-level implementation options for a model in the PyTorch framework. This enables you to only implement the methods you need to dictate how the model training should be performed.\n",
    "\n",
    "For a custom model we need to implement the following methods:\n",
    "\n",
    "- `__init__()`: how to setup the model\n",
    "- `configure_optimizers()`: how optimizers should be configured in the model\n",
    "- `forward()`: how to perform a forward pass in the model, how the loss is calculated\n",
    "- `training_step()`: what one training step in the model looks like\n",
    "- `validation_step()`: what one validation step in the model looks like\n",
    "- `test_step()`: what one test step in the model looks like\n",
    "\n",
    "After implementing these methods you will have to write the custom model class to a file. By convention the file must have the same name as the class. For example, for class `MyCustomModel` we set `model_file = 'MyCustomModel.py'`."
   ]
  },
  {
   "cell_type": "code",
   "execution_count": null,
   "id": "4434a991",
   "metadata": {
    "vscode": {
     "languageId": "python"
    }
   },
   "outputs": [],
   "source": [
    "# Update this to be the name of your class, which you will change in the cell below\n",
    "\n",
    "model_file = \"MyCustomModel.py\""
   ]
  },
  {
   "cell_type": "markdown",
   "id": "593347c5",
   "metadata": {},
   "source": [
    "Now we implement the custom model..."
   ]
  },
  {
   "cell_type": "code",
   "execution_count": null,
   "id": "b7efcf48",
   "metadata": {
    "vscode": {
     "languageId": "python"
    }
   },
   "outputs": [],
   "source": [
    "%%writefile $model_file\n",
    "from torchmetrics.functional import accuracy  # isort: split\n",
    "import torch\n",
    "from torch import nn as nn\n",
    "from torch.nn import functional as F\n",
    "\n",
    "from bitfount.backends.pytorch.models.base_models import PyTorchClassifierMixIn\n",
    "from bitfount.backends.pytorch.models.bitfount_model import PyTorchBitfountModel\n",
    "\n",
    "\n",
    "# Update the class name for your Custom model\n",
    "class MyCustomModel(PyTorchClassifierMixIn, PyTorchBitfountModel):\n",
    "    # A custom model built using PyTorch Lightning.\n",
    "    def __init__(self, **kwargs):\n",
    "        super().__init__(**kwargs)\n",
    "        self.learning_rate = 0.001\n",
    "        # Initializes the model and sets hyperparameters.\n",
    "        # We need to call the parent __init__ first to ensure base model is set up.\n",
    "        # Then we can set our custom model parameters.\n",
    "\n",
    "    def create_model(self):\n",
    "        self.input_size = self.datastructure.input_size\n",
    "        return nn.Sequential(\n",
    "            nn.Linear(self.input_size, 500),\n",
    "            nn.ReLU(),\n",
    "            nn.Dropout(0.1),\n",
    "            nn.Linear(500, self.n_classes),\n",
    "        )\n",
    "\n",
    "    def forward(self, x):\n",
    "        # Defines the operations we want to use for prediction.\n",
    "        x, sup = x\n",
    "        x = self._model(x.float())\n",
    "        return x\n",
    "\n",
    "    def training_step(self, batch, batch_idx):\n",
    "        # Computes and returns the training loss for a batch of data.\n",
    "        x, y = batch\n",
    "        y_hat = self(x)\n",
    "        loss = F.cross_entropy(y_hat, y)\n",
    "        return loss\n",
    "\n",
    "    def validation_step(self, batch, batch_idx):\n",
    "        # Operates on a single batch of data from the validation set.\n",
    "        x, y = batch\n",
    "        preds = self(x)\n",
    "        loss = F.cross_entropy(preds, y)\n",
    "        preds = F.softmax(preds, dim=1)\n",
    "        acc = accuracy(preds, y)\n",
    "        # We can log out some useful stats so we can see progress\n",
    "        self.log(\"val_loss\", loss, prog_bar=True)\n",
    "        self.log(\"val_acc\", acc, prog_bar=True)\n",
    "        return {\n",
    "            \"val_loss\": loss,\n",
    "            \"val_acc\": acc,\n",
    "        }\n",
    "\n",
    "    def test_step(self, batch, batch_idx):\n",
    "        # Operates on a single batch of data from the test set.\n",
    "        x, y = batch\n",
    "        preds = self(x)\n",
    "        loss = F.cross_entropy(preds, y)\n",
    "        # We add these actual values and predictions to the\n",
    "        # `self.targs` and `self.preds` lists.\n",
    "        self.targs.extend(y.tolist())\n",
    "        self.preds.extend(F.softmax(preds, dim=1).tolist())\n",
    "        return loss\n",
    "\n",
    "    def configure_optimizers(self):\n",
    "        # Configure the optimizer we wish to use whilst training.\n",
    "        optimizer = torch.optim.AdamW(self.parameters(), lr=self.learning_rate)\n",
    "        return optimizer"
   ]
  },
  {
   "cell_type": "markdown",
   "id": "c3d1ee7d",
   "metadata": {},
   "source": [
    "> ℹ️ You can try out your own model here, just make sure to change `model_file = '<YOUR_CUSTOM_MODEL_CLASS_NAME>.py'`\n",
    "> to reference your model's class name.\n",
    "\n",
    "### 8.4 Setting everything up\n",
    "\n",
    "Let's import the relevant pieces using the API reference."
   ]
  },
  {
   "cell_type": "code",
   "execution_count": null,
   "id": "bbec381a",
   "metadata": {
    "vscode": {
     "languageId": "python"
    }
   },
   "outputs": [],
   "source": [
    "import logging  # isort: split\n",
    "from pathlib import Path\n",
    "\n",
    "import nest_asyncio\n",
    "import torch\n",
    "from torch import nn as nn\n",
    "from torch.nn import functional as F\n",
    "from torchmetrics.functional import accuracy\n",
    "\n",
    "from bitfount import (\n",
    "    BitfountSchema,\n",
    "    CSVSource,\n",
    "    DataStructure,\n",
    "    PyTorchBitfountModel,\n",
    "    PyTorchClassifierMixIn,\n",
    "    get_pod_schema,\n",
    ")\n",
    "from bitfount.runners.utils import setup_loggers\n",
    "\n",
    "nest_asyncio.apply()  # Needed because Jupyter also has an asyncio loop"
   ]
  },
  {
   "cell_type": "markdown",
   "id": "0736230e",
   "metadata": {},
   "source": [
    "Let's set up the loggers. The loggers are necessary to ensure you can receive real-time feedback on your task's progress or error messages if something goes wrong:"
   ]
  },
  {
   "cell_type": "code",
   "execution_count": null,
   "id": "053c7c56",
   "metadata": {
    "tags": [
     "logger_setup"
    ],
    "vscode": {
     "languageId": "python"
    }
   },
   "outputs": [],
   "source": [
    "loggers = setup_loggers([logging.getLogger(\"bitfount\")])"
   ]
  },
  {
   "cell_type": "markdown",
   "id": "fd08d0e8",
   "metadata": {},
   "source": [
    "### 8.5 Training locally with a custom model\n",
    "\n",
    "With the above model we can now change our config to use this custom model. The configuration is for the most part the same as before.\n",
    "\n",
    "First, let's import and test the model on a local dataset."
   ]
  },
  {
   "cell_type": "code",
   "execution_count": null,
   "id": "94cc8109",
   "metadata": {
    "vscode": {
     "languageId": "python"
    }
   },
   "outputs": [],
   "source": [
    "datasource = CSVSource(\n",
    "    path=\"https://bitfount-hosted-downloads.s3.eu-west-2.amazonaws.com/bitfount-tutorials/census_income.csv\",\n",
    "    ignore_cols=[\"fnlwgt\"],\n",
    ")\n",
    "schema = BitfountSchema(\n",
    "    datasource,\n",
    "    table_name=\"census-income-demo\",\n",
    "    force_stypes={\n",
    "        \"census-income-demo\": {\n",
    "            \"categorical\": [\n",
    "                \"TARGET\",\n",
    "                \"workclass\",\n",
    "                \"marital-status\",\n",
    "                \"occupation\",\n",
    "                \"relationship\",\n",
    "                \"race\",\n",
    "                \"native-country\",\n",
    "                \"gender\",\n",
    "                \"education\",\n",
    "            ],\n",
    "        },\n",
    "    },\n",
    ")\n",
    "datastructure = DataStructure(target=\"TARGET\", table=\"census-income-demo\")\n",
    "model = MyCustomModel(datastructure=datastructure, schema=schema, epochs=2)\n",
    "model.fit(data=datasource)"
   ]
  },
  {
   "cell_type": "markdown",
   "id": "78e37302",
   "metadata": {},
   "source": [
    "### 8.6 Training on a Pod with a custom model\n",
    "\n",
    "With the model file created we can now change the yaml config to use this custom model. The configuration is for the most part the same as before, but note that we now specify `bitfount_model` rather than `name` in the `model` section.\n",
    "\n",
    "Within this `bitfount_model` section you can specify `username` and `model_ref`. In our case, the username is our own username so we don't need to specify it, but if you wanted to use a model uploaded by someone else you would need to specify their username and the name of their model.\n",
    "\n",
    "`model_ref` is either the name of an existing custom model (one that has been uploaded to the Hub) or, if using a new custom model, the path to the model file. The code will handle the upload of the model to the Hub the first time it is used, after which you can refer to it by name.\n",
    "\n",
    "The Pods that we are training on will identify that this is a custom model and retrieve the model file from the Hub. This allows you to extend and improve on the base models that are included in every Pod.\n",
    "\n",
    "That's all the setup, let's run the training!"
   ]
  },
  {
   "cell_type": "code",
   "execution_count": null,
   "id": "9a83337a",
   "metadata": {
    "vscode": {
     "languageId": "python"
    }
   },
   "outputs": [],
   "source": [
    "pod_identifier = \"census-income-demo\"\n",
    "schema = get_pod_schema(pod_identifier)\n",
    "model_ref = BitfountModelReference(\n",
    "    model_ref=Path(\"MyCustomModel.py\"),\n",
    "    datastructure=datastructure,\n",
    "    schema=schema,\n",
    "    hyperparameters={\"epochs\": 2},\n",
    ")\n",
    "create_and_run_modeller_from_bf_model_ref(\n",
    "    model_ref, pod_identifiers=[pod_identifier], model_out=Path(\"part_8_model.pt\")\n",
    ")"
   ]
  },
  {
   "cell_type": "markdown",
   "id": "77f5b755",
   "metadata": {},
   "source": [
    "You've now successfully learned how to run a custom model! If you'd like to learn how to use a pre-trained model, move to the next tutorial, Tutorial 9."
   ]
  }
 ],
 "metadata": {
  "jupytext": {
   "formats": "md,ipynb",
   "hide_notebook_metadata": true
  },
  "kernelspec": {
   "display_name": "Python 3 (ipykernel)",
   "language": "python",
   "name": "python3"
  }
 },
 "nbformat": 4,
 "nbformat_minor": 5
}
