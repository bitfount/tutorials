{
 "cells": [
  {
   "cell_type": "markdown",
   "id": "cadb6dff",
   "metadata": {},
   "source": [
    "[![Binder](https://mybinder.org/badge_logo.svg)](https://mybinder.org/v2/gh/bitfount/tutorials/main?labpath=07_training_on_images.ipynb)\n",
    "\n",
    "# Federated Learning - Part 7: Training on images\n",
    "\n",
    "Welcome to the Bitfount federated learning tutorials! In this sequence of tutorials, you will learn how federated learning works on the Bitfount platform. This is the seventh notebook in the series.\n",
    "In this tutorial we will be training a model on image data on a pod. If you haven't set up the `mnist-demo` pod yet you should review Part 6, as this tutorial will build from there.\n",
    "\n",
    "By the end of this notebook, you should have trained a model on your very own pod running an image dataset and have used a preexisting image classification model as the starting point.\n",
    "\n",
    "Let's import the relevant pieces..."
   ]
  },
  {
   "cell_type": "code",
   "execution_count": null,
   "id": "c87420f0",
   "metadata": {},
   "outputs": [],
   "source": [
    "import logging\n",
    "from pathlib import Path\n",
    "\n",
    "import nest_asyncio\n",
    "\n",
    "from bitfount import (\n",
    "    DataStructure,\n",
    "    NeuralNetworkPredefinedModel,\n",
    "    Optimizer,\n",
    "    PyTorchImageClassifier,\n",
    "    get_pod_schema,\n",
    ")\n",
    "from bitfount.runners.utils import setup_loggers\n",
    "\n",
    "nest_asyncio.apply()  # Needed because Jupyter also has an asyncio loop"
   ]
  },
  {
   "cell_type": "markdown",
   "id": "ebf33184",
   "metadata": {},
   "source": [
    "Let's set up the loggers."
   ]
  },
  {
   "cell_type": "code",
   "execution_count": null,
   "id": "c94cc790",
   "metadata": {
    "tags": [
     "logger_setup"
    ]
   },
   "outputs": [],
   "source": [
    "loggers = setup_loggers([logging.getLogger(\"bitfount\")])"
   ]
  },
  {
   "cell_type": "markdown",
   "id": "ddb97669",
   "metadata": {},
   "source": [
    "The config is very similar to to Part 3 and 4, but we will now be using a predefined model focused on image classification tasks: `resnet18`. This will act as our base and we will then train on the MNIST dataset we retrieved in Part 6 to hone the `resnet18` model for our task."
   ]
  },
  {
   "cell_type": "code",
   "execution_count": null,
   "id": "890091ce",
   "metadata": {},
   "outputs": [],
   "source": [
    "pod_identifier = \"mnist-demo\"\n",
    "schema = get_pod_schema(pod_identifier)\n",
    "\n",
    "model = PyTorchImageClassifier(\n",
    "    datastructure=DataStructure(\n",
    "        target=\"target\", table=\"mnist-demo\", image_cols=[\"file\"]\n",
    "    ),\n",
    "    schema=schema,\n",
    "    model_structure=NeuralNetworkPredefinedModel(\"resnet18\"),\n",
    "    epochs=1,\n",
    "    batch_size=32,\n",
    "    optimizer=Optimizer(name=\"SGD\", params={\"lr\": 0.0001}),\n",
    ")"
   ]
  },
  {
   "cell_type": "markdown",
   "id": "18309ace",
   "metadata": {},
   "source": [
    "That's all the setup, let's run the training!\n",
    "\n",
    "> ℹ️ Don't worry if this seems to take a while; we're sending a fairly large set of weight updates to the pod and may well be training on CPU; when using real pods it is always desirable to set them up to use GPUs for training.\n",
    "\n",
    "You can view the local progress of the training by watching the logs in your Tutorial 6 tab."
   ]
  },
  {
   "cell_type": "code",
   "execution_count": null,
   "id": "ee302eaf",
   "metadata": {},
   "outputs": [],
   "source": [
    "model.fit(pod_identifiers=[pod_identifier])"
   ]
  },
  {
   "cell_type": "markdown",
   "id": "a74a6ff3",
   "metadata": {},
   "source": [
    "Let's also serialize and save the model."
   ]
  },
  {
   "cell_type": "code",
   "execution_count": null,
   "id": "b47bebdd",
   "metadata": {},
   "outputs": [],
   "source": [
    "model_out = Path(\"part_7_model.pt\")\n",
    "model.serialize(model_out)"
   ]
  },
  {
   "cell_type": "markdown",
   "id": "08fe0457",
   "metadata": {},
   "source": [
    "If you are following the tutorials in Binder, make sure the sidebar is displayed by clicking the folder icon on the left of the screen. Here you will be able to navigate to the next tutorial."
   ]
  }
 ],
 "metadata": {
  "jupytext": {
   "formats": "md,ipynb",
   "hide_notebook_metadata": true
  },
  "kernelspec": {
   "display_name": "Python 3 (ipykernel)",
   "language": "python",
   "name": "python3"
  }
 },
 "nbformat": 4,
 "nbformat_minor": 5
}
