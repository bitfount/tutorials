{
 "cells": [
  {
   "cell_type": "markdown",
   "id": "b6454e81",
   "metadata": {},
   "source": [
    "[![Binder](https://mybinder.org/badge_logo.svg)](https://mybinder.org/v2/gh/bitfount/tutorials/main?labpath=03_training_a_model.ipynb)\n",
    "\n",
    "# Federated Learning - Part 3: Querying and Training a model\n",
    "\n",
    "In this tutorial we will first learn how to execute SQL queries on a Pod, then understand how to train a model on a federated dataset.\n",
    "You will use the Pod you set up in Part 1 of the tutorials, so make sure the Pod is showing as 'Online' in your Bitfount Hub 'My Pods' view. If it is 'Offline,' run the Pod again following the instructions in tutorial 1.\n",
    "\n",
    "### 3.1 Obtaining access\n",
    "\n",
    "Typically, you will need to receive access to a Pod from the Data Custodian who owns the Pod to query or train on its associated data. The Data Custodian will need your Bitfount username to grant you access. Once access is granted, you will be able to view whether the Pod is online and what permissions you have to it in the \"Accessible Pods\" view in the Hub.\n",
    "\n",
    "For the purposes of this tutorial, you will be using the pod you set up in Part 1, so you won't need to gain any access.\n",
    "\n",
    "Let's import the relevant pieces for the query or model we wish to train from our API reference. Note: These may differ if you wish to use a different protocol or algorithm, so keep that in mind if looking to execute a different type of task."
   ]
  },
  {
   "cell_type": "code",
   "execution_count": null,
   "id": "5b7efcce",
   "metadata": {
    "vscode": {
     "languageId": "python"
    }
   },
   "outputs": [],
   "source": [
    "import logging\n",
    "from pathlib import Path\n",
    "\n",
    "import nest_asyncio\n",
    "\n",
    "from bitfount import (\n",
    "    DataStructure,\n",
    "    FederatedAveraging,\n",
    "    FederatedModelTraining,\n",
    "    Optimizer,\n",
    "    PyTorchTabularClassifier,\n",
    "    get_pod_schema,\n",
    ")\n",
    "from bitfount.federated.algorithms.model_algorithms.federated_training import (\n",
    "    FederatedModelTraining,\n",
    ")\n",
    "from bitfount.federated.algorithms.sql_query import SqlQuery\n",
    "from bitfount.federated.protocols.model_protocols.federated_averaging import (\n",
    "    FederatedAveraging,\n",
    ")\n",
    "from bitfount.runners.utils import setup_loggers\n",
    "\n",
    "nest_asyncio.apply()  # Needed because Jupyter also has an asyncio loop"
   ]
  },
  {
   "cell_type": "markdown",
   "id": "34133dc8",
   "metadata": {},
   "source": [
    "Let's set up the loggers. The loggers are necessary to ensure you can receive real-time feedback on your task's progress or error messages if something goes wrong:"
   ]
  },
  {
   "cell_type": "code",
   "execution_count": null,
   "id": "2f3f4dc8",
   "metadata": {
    "tags": [
     "logger_setup"
    ],
    "vscode": {
     "languageId": "python"
    }
   },
   "outputs": [],
   "source": [
    "loggers = setup_loggers([logging.getLogger(\"bitfount\")])"
   ]
  },
  {
   "cell_type": "markdown",
   "id": "31846294",
   "metadata": {},
   "source": [
    "### 3.2 Querying a pod\n",
    "\n",
    "We can run a SQL query on a Pod by specifying our query as a parameter to the `SQLQuery` algorithm. We then pass the `pod_identifier(s)` on which we would like to execute the query. Before executing the query, double check that the `census-income-demo` Pod is online in the Hub.\n",
    "\n",
    "Note: This is the mechanism for running a SQL query when no differential privacy restrictions have been placed on the Pod. For details on how to run a query with privacy-preserving controls, see [Tutorial 10](https://github.com/bitfount/tutorials/blob/main/10_privacy_preserving_techniques.ipynb)."
   ]
  },
  {
   "cell_type": "code",
   "execution_count": null,
   "id": "863abd21",
   "metadata": {
    "vscode": {
     "languageId": "python"
    }
   },
   "outputs": [],
   "source": [
    "pod_identifier = \"census-income-demo\"\n",
    "query = SqlQuery(\n",
    "    query=\"\"\"\n",
    "SELECT `occupation`, AVG(`age`)\n",
    "FROM df\n",
    "GROUP BY `occupation`\n",
    "\"\"\"\n",
    ")\n",
    "query.execute(pod_identifiers=[pod_identifier])"
   ]
  },
  {
   "cell_type": "markdown",
   "id": "dbcdc831",
   "metadata": {},
   "source": [
    "### 3.3 Training a model\n",
    "\n",
    "Here we outline how to train a model by leveraging the Bitfount Python API. This can also be done by using a YAML configuration file, which we will explain in Tutorial 4.\n",
    "\n",
    "Typically when training a model, there are a few parameters to specify in the configuration for this training run.\n",
    "\n",
    "- `pod identifier`: The list of Pods that hold the data you want to train on\n",
    "- `data structure`: The structure of the data on which we will train the model. It contains the target column, columns to select/ignore for training.\n",
    "- `schema`: For training a model on a Pod, we need to download the Pod schema.\n",
    "- `protocol`: The federated learning protocol to use. Note that you must have approval from the Pod!\n",
    "- `algorithm`: The federated learning algorithm to use.\n",
    "- `aggregator`: This may be required depending on your chosen protocol\n",
    "- `model`: The model you want to train\n",
    "- `model hyperparameters`: The settings used by the model\n",
    "\n",
    "For this tutorial, we will use the default protocol (Federated Averaging) and Algorithm (Federated Model Training).\n",
    "In tutorial 9, we will show you how to change the default protocol and algorithm.\n",
    "\n",
    "Let's define the model that we will use and the relevant data structures."
   ]
  },
  {
   "cell_type": "code",
   "execution_count": null,
   "id": "3df347e0",
   "metadata": {
    "vscode": {
     "languageId": "python"
    }
   },
   "outputs": [],
   "source": [
    "pod_identifier = \"census-income-demo\"\n",
    "schema = get_pod_schema(pod_identifier)\n",
    "\n",
    "model = PyTorchTabularClassifier(\n",
    "    datastructure=DataStructure(target=\"TARGET\", table=\"census-income-demo\"),\n",
    "    schema=schema,\n",
    "    epochs=1,\n",
    "    batch_size=64,\n",
    "    optimizer=Optimizer(name=\"SGD\", params={\"lr\": 0.001}),\n",
    ")"
   ]
  },
  {
   "cell_type": "markdown",
   "id": "67414dcb",
   "metadata": {},
   "source": [
    "That's all the setup, let's run the training!"
   ]
  },
  {
   "cell_type": "code",
   "execution_count": null,
   "id": "7b325e0e",
   "metadata": {
    "vscode": {
     "languageId": "python"
    }
   },
   "outputs": [],
   "source": [
    "model.fit(pod_identifiers=[pod_identifier])"
   ]
  },
  {
   "cell_type": "markdown",
   "id": "e0b08675",
   "metadata": {},
   "source": [
    "Let's also serialize and save the model, as we will need it in one of the later tutorials."
   ]
  },
  {
   "cell_type": "code",
   "execution_count": null,
   "id": "6b2bba49",
   "metadata": {
    "vscode": {
     "languageId": "python"
    }
   },
   "outputs": [],
   "source": [
    "model_out = Path(\"part_3_model.pt\")\n",
    "model.serialize(model_out)"
   ]
  },
  {
   "cell_type": "markdown",
   "id": "80974a15",
   "metadata": {},
   "source": [
    "Above you ran `model.fit()` to train your model. As a result, the `bitfount` package set up the `FederatedAveraging` protocol for you. Alternatively, we can achieve the equivalent by explicitly specifying the protocol we want and calling `.run()`. We demonstrate this below with the `FederatedAveraging` protocol to replicate the results, but this can be switched out for any protocol."
   ]
  },
  {
   "cell_type": "code",
   "execution_count": null,
   "id": "1358ed14",
   "metadata": {
    "vscode": {
     "languageId": "python"
    }
   },
   "outputs": [],
   "source": [
    "\n",
    "protocol = FederatedAveraging(algorithm=FederatedModelTraining(model=model))\n",
    "protocol.run(pod_identifiers=[pod_identifier])"
   ]
  },
  {
   "cell_type": "markdown",
   "id": "2c41cbf6",
   "metadata": {},
   "source": [
    "If you are following the tutorials in Binder, make sure the sidebar is displayed by clicking the folder icon on the left of the screen. Here you will be able to navigate to the next tutorial."
   ]
  }
 ],
 "metadata": {
  "jupytext": {
   "formats": "md,ipynb",
   "hide_notebook_metadata": true
  },
  "kernelspec": {
   "display_name": "Python 3 (ipykernel)",
   "language": "python",
   "name": "python3"
  }
 },
 "nbformat": 4,
 "nbformat_minor": 5
}
