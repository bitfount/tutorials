{
 "cells": [
  {
   "cell_type": "markdown",
   "id": "b6454e81",
   "metadata": {},
   "source": [
    "[![Binder](https://mybinder.org/badge_logo.svg)](https://mybinder.org/v2/gh/bitfount/tutorials/main?labpath=03_training_a_model.ipynb)\n",
    "\n",
    "# Federated Learning - Part 3: Querying and Training a model\n",
    "\n",
    "In this tutorial we will first learn how to execute queries on a pod, then understand how to train a model on a federated dataset.\n",
    "You will use the pod you set up in Part 1, so make sure you have run that first.\n",
    "\n",
    "### 3.1 Requesting access\n",
    "\n",
    "Normally, if you are training on a pod you do not own, you will have to request access.\n",
    "To do this, you would go to https://hub.bitfount.com/{username}/pods/{pod-identifier}.\n",
    "For the purpose of this tutorial, you will be using the pod you set up in Part 1, so you won't need to request any access.\n",
    "\n",
    "> ℹ️ In this tutorial, we will be training a model. This can also be done by using a YAML configuration file, which we will explain in Tutorial 4.\n",
    "\n",
    "Let's import the relevant pieces..."
   ]
  },
  {
   "cell_type": "code",
   "execution_count": null,
   "id": "5b7efcce",
   "metadata": {},
   "outputs": [],
   "source": [
    "import logging\n",
    "from pathlib import Path\n",
    "\n",
    "import nest_asyncio\n",
    "\n",
    "from bitfount import (\n",
    "    DataStructure,\n",
    "    FederatedAveraging,\n",
    "    FederatedModelTraining,\n",
    "    Optimizer,\n",
    "    PyTorchTabularClassifier,\n",
    "    get_pod_schema,\n",
    ")\n",
    "from bitfount.federated.algorithms.model_algorithms.federated_training import (\n",
    "    FederatedModelTraining,\n",
    ")\n",
    "from bitfount.federated.algorithms.sql_query import SqlQuery\n",
    "from bitfount.federated.protocols.model_protocols.federated_averaging import (\n",
    "    FederatedAveraging,\n",
    ")\n",
    "from bitfount.runners.utils import setup_loggers\n",
    "\n",
    "nest_asyncio.apply()  # Needed because Jupyter also has an asyncio loop"
   ]
  },
  {
   "cell_type": "markdown",
   "id": "34133dc8",
   "metadata": {},
   "source": [
    "Let's set up the loggers."
   ]
  },
  {
   "cell_type": "code",
   "execution_count": null,
   "id": "2f3f4dc8",
   "metadata": {
    "tags": [
     "logger_setup"
    ]
   },
   "outputs": [],
   "source": [
    "loggers = setup_loggers([logging.getLogger(\"bitfount\")])"
   ]
  },
  {
   "cell_type": "markdown",
   "id": "31846294",
   "metadata": {},
   "source": [
    "### 3.2 Querying a pod\n",
    "\n",
    "We can run a SQL query on a pod by specifying our query as a parameter to the `SQLQuery` algorithm. We then pass the `pod_identifier(s)` we would like to execute the query on."
   ]
  },
  {
   "cell_type": "code",
   "execution_count": null,
   "id": "863abd21",
   "metadata": {},
   "outputs": [],
   "source": [
    "pod_identifier = \"census-income-demo\"\n",
    "query = SqlQuery(\n",
    "    query=\"\"\"\n",
    "SELECT `occupation`, AVG(`age`)\n",
    "FROM df\n",
    "GROUP BY `occupation`\n",
    "\"\"\"\n",
    ")\n",
    "query.execute(pod_identifiers=[pod_identifier])"
   ]
  },
  {
   "cell_type": "markdown",
   "id": "dbcdc831",
   "metadata": {},
   "source": [
    "### 3.3 Training a model\n",
    "\n",
    "Normally, there are a few parameters to specify in the configuration for this training run.\n",
    "\n",
    "- `pod identifier`: The list of pods that hold the data you want to train on\n",
    "- `data structure`: The structure of the data on which we will train the model. It contains the target column, columns to select/ignore for training.\n",
    "- `schema`: For training a model on a pod, we need to download the pod schema.\n",
    "- `protocol`: The federated learning protocol to use. Note that you must have approval from the pod!\n",
    "- `algorithm`: The federated learning algorithm to use.\n",
    "- `aggregator`: This may be required depending on your chosen protocol\n",
    "- `model`: The model you want to train\n",
    "- `model hyperparameters`: The settings used by the model\n",
    "\n",
    "However, for this tutorial, we will use the default protocol (Federated Averaging) and Algorithm (Federated Model Training).\n",
    "In tutorial 9, we will show how to change these default protocol and algorithm.\n",
    "\n",
    "Let's define the model that we will use and the relevant data structures."
   ]
  },
  {
   "cell_type": "code",
   "execution_count": null,
   "id": "3df347e0",
   "metadata": {},
   "outputs": [],
   "source": [
    "pod_identifier = \"census-income-demo\"\n",
    "schema = get_pod_schema(pod_identifier)\n",
    "\n",
    "model = PyTorchTabularClassifier(\n",
    "    datastructure=DataStructure(target=\"TARGET\", table=\"census-income-demo\"),\n",
    "    schema=schema,\n",
    "    epochs=1,\n",
    "    batch_size=64,\n",
    "    optimizer=Optimizer(name=\"SGD\", params={\"lr\": 0.001}),\n",
    ")"
   ]
  },
  {
   "cell_type": "markdown",
   "id": "67414dcb",
   "metadata": {},
   "source": [
    "That's all the setup, let's run the training!"
   ]
  },
  {
   "cell_type": "code",
   "execution_count": null,
   "id": "7b325e0e",
   "metadata": {},
   "outputs": [],
   "source": [
    "model.fit(pod_identifiers=[pod_identifier])"
   ]
  },
  {
   "cell_type": "markdown",
   "id": "e0b08675",
   "metadata": {},
   "source": [
    "Let's also serialize and save the model, as we will need it in one of the later tutorials."
   ]
  },
  {
   "cell_type": "code",
   "execution_count": null,
   "id": "6b2bba49",
   "metadata": {},
   "outputs": [],
   "source": [
    "model_out = Path(\"part_3_model.pt\")\n",
    "model.serialize(model_out)"
   ]
  },
  {
   "cell_type": "markdown",
   "id": "80974a15",
   "metadata": {},
   "source": [
    "Above you ran `model.fit()` to train your model. In this way the `bitfount` package set up the `FerderatedAveraging` protocol for you. Alternatively we can achieve the equivalent by explicitly specifying the protocol we want and calling `.run()`. We demonstrate this below with the `FederatedAveraging` protocol to replicate the results but this can be switched out for any protocol."
   ]
  },
  {
   "cell_type": "code",
   "execution_count": null,
   "id": "1358ed14",
   "metadata": {},
   "outputs": [],
   "source": [
    "\n",
    "protocol = FederatedAveraging(algorithm=FederatedModelTraining(model=model))\n",
    "protocol.run(pod_identifiers=[pod_identifier])"
   ]
  },
  {
   "cell_type": "markdown",
   "id": "2c41cbf6",
   "metadata": {},
   "source": [
    "If you are following the tutorials in Binder, make sure the sidebar is displayed by clicking the folder icon on the left of the screen. Here you will be able to navigate to the next tutorial."
   ]
  }
 ],
 "metadata": {
  "jupytext": {
   "formats": "md,ipynb",
   "hide_notebook_metadata": true
  },
  "kernelspec": {
   "display_name": "Python 3 (ipykernel)",
   "language": "python",
   "name": "python3"
  }
 },
 "nbformat": 4,
 "nbformat_minor": 5
}
