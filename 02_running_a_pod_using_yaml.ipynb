{
 "cells": [
  {
   "cell_type": "markdown",
   "id": "8dc7eb32",
   "metadata": {},
   "source": [
    "[![Binder](https://mybinder.org/badge_logo.svg)](https://mybinder.org/v2/gh/bitfount/tutorials/main?labpath=02_running_a_pod_using_yaml.ipynb)\n",
    "\n",
    "# Federated Learning - Part 2: Running a pod with a YAML configuration file.\n",
    "\n",
    "Now, you will learn how to set up a pod using a YAML configuration file.\n",
    "\n",
    "> ℹ️ In this tutorial, you will run a pod from the Bitfount python API.\n",
    "> Alternatively, this is can be called via the command line:\n",
    ">\n",
    "> ```\n",
    "> bitfount run_pod <pod_config.yaml>\n",
    "> ```\n",
    ">\n",
    "> See the README for more details.\n",
    ">\n",
    "> To keep everything in this notebook though, we are going to call the function\n",
    "> directly from python.\n",
    "\n",
    "Let's import the relevant pieces..."
   ]
  },
  {
   "cell_type": "code",
   "execution_count": null,
   "id": "3b106147",
   "metadata": {},
   "outputs": [],
   "source": [
    "import logging\n",
    "\n",
    "import desert\n",
    "import nest_asyncio\n",
    "import yaml\n",
    "\n",
    "from bitfount import Pod\n",
    "from bitfount.runners.config_schemas import PodConfig\n",
    "from bitfount.runners.pod_runner import setup_pod_from_config\n",
    "from bitfount.runners.utils import setup_loggers\n",
    "\n",
    "nest_asyncio.apply()  # Needed because Jupyter also has an asyncio loop"
   ]
  },
  {
   "cell_type": "markdown",
   "id": "f232dc28",
   "metadata": {},
   "source": [
    "Let's set up the loggers."
   ]
  },
  {
   "cell_type": "code",
   "execution_count": null,
   "id": "fec9e1bc",
   "metadata": {
    "tags": [
     "logger_setup"
    ]
   },
   "outputs": [],
   "source": [
    "loggers = setup_loggers([logging.getLogger(\"bitfount\")])"
   ]
  },
  {
   "cell_type": "markdown",
   "id": "af230b3f",
   "metadata": {},
   "source": [
    "We now specify the config for the pod to run."
   ]
  },
  {
   "cell_type": "code",
   "execution_count": null,
   "id": "e01ae1ba",
   "metadata": {},
   "outputs": [],
   "source": [
    "# Load the pod's config\n",
    "config_yaml = yaml.safe_load(\n",
    "    f\"\"\"\n",
    "pod_name: census-income-yaml-demo\n",
    "datasource: CSVSource\n",
    "\n",
    "pod_details:\n",
    "  display_name: Census Income YAML demo pod\n",
    "  description: >\n",
    "    This pod contains data from the census income demo set\n",
    "\n",
    "data_config:\n",
    "  ignore_cols: [\"fnlwgt\"]\n",
    "  force_stypes:\n",
    "    census-income-yaml-demo:\n",
    "      categorical: [\"TARGET\", \"workclass\", \"marital-status\", \"occupation\", \"relationship\", \"race\", \"native-country\", \"gender\", \"education\"]\n",
    "  datasource_args:\n",
    "    path: https://bitfount-hosted-downloads.s3.eu-west-2.amazonaws.com/bitfount-tutorials/census_income.csv\n",
    "    seed: 100\n",
    "other_pods: [\"census-income-demo\"] # this is an optional attribute, but we will use it later in Tutorial 5\n",
    "\"\"\"\n",
    ")\n",
    "config = desert.schema(PodConfig).load(config_yaml)"
   ]
  },
  {
   "cell_type": "markdown",
   "id": "a3df98a5",
   "metadata": {},
   "source": [
    "That's the setup done. Let's run the pod. You'll notice that the notebook cell doesn't complete. That's because the pod is set to run until it is interrupted!"
   ]
  },
  {
   "cell_type": "code",
   "execution_count": null,
   "id": "32cc56e0",
   "metadata": {},
   "outputs": [],
   "source": [
    "pod = setup_pod_from_config(config)\n",
    "pod.start()"
   ]
  },
  {
   "cell_type": "markdown",
   "id": "17ea32bc",
   "metadata": {},
   "source": [
    "You should now be able to see your pod as registered in your Pods page on Bitfount Hub (https://hub.bitfount.com/{username}/pods). To use the pod, open up Part 4 of this tutorial in a separate tab and we'll go ahead and train a model on the pod.\n",
    "\n",
    "If you are following the tutorials in Binder, make sure the sidebar is displayed by clicking the folder icon on the left of the screen. Here you will be able to navigate to the next tutorial."
   ]
  }
 ],
 "metadata": {
  "jupytext": {
   "formats": "md,ipynb",
   "hide_notebook_metadata": true
  },
  "kernelspec": {
   "display_name": "Python 3 (ipykernel)",
   "language": "python",
   "name": "python3"
  }
 },
 "nbformat": 4,
 "nbformat_minor": 5
}
