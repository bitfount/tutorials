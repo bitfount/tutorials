{
 "cells": [
  {
   "cell_type": "markdown",
   "id": "8dc7eb32",
   "metadata": {},
   "source": [
    "[![Binder](https://mybinder.org/badge_logo.svg)](https://mybinder.org/v2/gh/bitfount/tutorials/main?labpath=02_running_a_pod_using_yaml.ipynb)\n",
    "\n",
    "# Federated Learning - Part 2: Running a Pod with a YAML configuration file.\n",
    "\n",
    "Now, you will learn how to set up a Pod using a YAML configuration file.\n",
    "\n",
    "> ℹ️ In this tutorial, you will run a pod from the Bitfount python API.\n",
    "> Alternatively, this is can be called via the command line:\n",
    ">\n",
    "> ```\n",
    "> bitfount run_pod <pod_config.yaml>\n",
    "> ```\n",
    ">\n",
    "> See the README for more details.\n",
    ">\n",
    "> To keep everything in this notebook though, we are going to call the function\n",
    "> directly from python.\n",
    "\n",
    "Let's import the relevant pieces from our [API reference](https://docs.bitfount.com/api/bitfount/runners/config_schemas) for constructing a Pod. While several of these are optional, it is best practice to import them all for flexibility."
   ]
  },
  {
   "cell_type": "code",
   "execution_count": null,
   "id": "3b106147",
   "metadata": {
    "vscode": {
     "languageId": "python"
    }
   },
   "outputs": [],
   "source": [
    "import logging\n",
    "\n",
    "import desert\n",
    "import nest_asyncio\n",
    "import yaml\n",
    "\n",
    "from bitfount import Pod\n",
    "from bitfount.runners.config_schemas import PodConfig\n",
    "from bitfount.runners.pod_runner import setup_pod_from_config\n",
    "from bitfount.runners.utils import setup_loggers\n",
    "\n",
    "nest_asyncio.apply()  # Needed because Jupyter also has an asyncio loop"
   ]
  },
  {
   "cell_type": "markdown",
   "id": "f232dc28",
   "metadata": {},
   "source": [
    "Let's set up the loggers. The loggers are necessary to ensure you can receive real-time feedback on your task's progress or error messages if something goes wrong:"
   ]
  },
  {
   "cell_type": "code",
   "execution_count": null,
   "id": "fec9e1bc",
   "metadata": {
    "tags": [
     "logger_setup"
    ],
    "vscode": {
     "languageId": "python"
    }
   },
   "outputs": [],
   "source": [
    "loggers = setup_loggers([logging.getLogger(\"bitfount\")])"
   ]
  },
  {
   "cell_type": "markdown",
   "id": "af230b3f",
   "metadata": {},
   "source": [
    "In order to set up a Pod, we must specify a config detailing the characteristics of the Pod. For example:"
   ]
  },
  {
   "cell_type": "code",
   "execution_count": null,
   "id": "e01ae1ba",
   "metadata": {
    "vscode": {
     "languageId": "python"
    }
   },
   "outputs": [],
   "source": [
    "# Load the pod's config\n",
    "config_yaml = yaml.safe_load(\n",
    "    f\"\"\"\n",
    "pod_name: census-income-yaml-demo\n",
    "datasource: CSVSource\n",
    "\n",
    "pod_details:\n",
    "  display_name: Census Income YAML demo pod\n",
    "  description: >\n",
    "    This pod contains data from the census income demo set\n",
    "\n",
    "data_config:\n",
    "  ignore_cols: [\"fnlwgt\"]\n",
    "  force_stypes:\n",
    "    census-income-yaml-demo:\n",
    "      categorical: [\"TARGET\", \"workclass\", \"marital-status\", \"occupation\", \"relationship\", \"race\", \"native-country\", \"gender\", \"education\"]\n",
    "  datasource_args:\n",
    "    path: https://bitfount-hosted-downloads.s3.eu-west-2.amazonaws.com/bitfount-tutorials/census_income.csv\n",
    "    seed: 100\n",
    "other_pods: [\"census-income-demo\"] # this is an optional attribute, but we will use it later in Tutorial 5\n",
    "\"\"\"\n",
    ")\n",
    "config = desert.schema(PodConfig).load(config_yaml)"
   ]
  },
  {
   "cell_type": "markdown",
   "id": "5a93a2e7",
   "metadata": {},
   "source": [
    "Notice how we specified which dataset to connect using CSVSource and how to read the dataset by including the details in PodDataConfig. [PodDataConfig](https://docs.bitfount.com/api/bitfount/runners/config_schemas#poddataconfig) has several parameters, many of which are optional, so be sure to check what will work best for your dataset configuration. \n",
    "\n",
    "Now that we've completed the setup, let's run the Pod. You'll notice that the notebook cell doesn't complete. That's because the Pod is set to run until it is interrupted!"
   ]
  },
  {
   "cell_type": "code",
   "execution_count": null,
   "id": "32cc56e0",
   "metadata": {
    "vscode": {
     "languageId": "python"
    }
   },
   "outputs": [],
   "source": [
    "pod = setup_pod_from_config(config)\n",
    "pod.start()"
   ]
  },
  {
   "cell_type": "markdown",
   "id": "17ea32bc",
   "metadata": {},
   "source": [
    "You should now be able to see your Pod as registered in your Pods page on Bitfount Hub (https://hub.bitfount.com/{username}/pods). To use the Pod, open up Part 4 of this tutorial in a separate tab, and we'll train a model on the Pod.\n",
    "\n",
    "If you are following the tutorials in Binder, make sure the sidebar is displayed by clicking the folder icon on the left of the screen. Here you will be able to navigate to the next tutorial."
   ]
  }
 ],
 "metadata": {
  "jupytext": {
   "formats": "md,ipynb",
   "hide_notebook_metadata": true
  },
  "kernelspec": {
   "display_name": "Python 3 (ipykernel)",
   "language": "python",
   "name": "python3"
  }
 },
 "nbformat": 4,
 "nbformat_minor": 5
}
